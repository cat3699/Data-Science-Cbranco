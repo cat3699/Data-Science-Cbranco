{
  "nbformat": 4,
  "nbformat_minor": 0,
  "metadata": {
    "colab": {
      "provenance": []
    },
    "kernelspec": {
      "name": "python3",
      "display_name": "Python 3"
    },
    "language_info": {
      "name": "python"
    },
    "widgets": {
      "application/vnd.jupyter.widget-state+json": {
        "2332e2dfaf1743898889bbf4501351d6": {
          "model_module": "@jupyter-widgets/controls",
          "model_name": "HBoxModel",
          "model_module_version": "1.5.0",
          "state": {
            "_dom_classes": [],
            "_model_module": "@jupyter-widgets/controls",
            "_model_module_version": "1.5.0",
            "_model_name": "HBoxModel",
            "_view_count": null,
            "_view_module": "@jupyter-widgets/controls",
            "_view_module_version": "1.5.0",
            "_view_name": "HBoxView",
            "box_style": "",
            "children": [
              "IPY_MODEL_b9150c71056545e09eaee5f34fd69227",
              "IPY_MODEL_28de975d3799417790b43b877f5610cc",
              "IPY_MODEL_a48d69cf7af04f50acebdba749ecdc0b"
            ],
            "layout": "IPY_MODEL_dde13bf0a2924cf5b1eb4dbfef65904f"
          }
        },
        "b9150c71056545e09eaee5f34fd69227": {
          "model_module": "@jupyter-widgets/controls",
          "model_name": "HTMLModel",
          "model_module_version": "1.5.0",
          "state": {
            "_dom_classes": [],
            "_model_module": "@jupyter-widgets/controls",
            "_model_module_version": "1.5.0",
            "_model_name": "HTMLModel",
            "_view_count": null,
            "_view_module": "@jupyter-widgets/controls",
            "_view_module_version": "1.5.0",
            "_view_name": "HTMLView",
            "description": "",
            "description_tooltip": null,
            "layout": "IPY_MODEL_50a796bd13634a8e8688da062189ac9a",
            "placeholder": "​",
            "style": "IPY_MODEL_05a4a68175774513a12b9292a165d4da",
            "value": "Downloading (…)lve/main/config.json: 100%"
          }
        },
        "28de975d3799417790b43b877f5610cc": {
          "model_module": "@jupyter-widgets/controls",
          "model_name": "FloatProgressModel",
          "model_module_version": "1.5.0",
          "state": {
            "_dom_classes": [],
            "_model_module": "@jupyter-widgets/controls",
            "_model_module_version": "1.5.0",
            "_model_name": "FloatProgressModel",
            "_view_count": null,
            "_view_module": "@jupyter-widgets/controls",
            "_view_module_version": "1.5.0",
            "_view_name": "ProgressView",
            "bar_style": "success",
            "description": "",
            "description_tooltip": null,
            "layout": "IPY_MODEL_e20d0a9443854977ab33cf59d33dfdce",
            "max": 1559,
            "min": 0,
            "orientation": "horizontal",
            "style": "IPY_MODEL_59a4b6c0471448b9bc658205b0564c21",
            "value": 1559
          }
        },
        "a48d69cf7af04f50acebdba749ecdc0b": {
          "model_module": "@jupyter-widgets/controls",
          "model_name": "HTMLModel",
          "model_module_version": "1.5.0",
          "state": {
            "_dom_classes": [],
            "_model_module": "@jupyter-widgets/controls",
            "_model_module_version": "1.5.0",
            "_model_name": "HTMLModel",
            "_view_count": null,
            "_view_module": "@jupyter-widgets/controls",
            "_view_module_version": "1.5.0",
            "_view_name": "HTMLView",
            "description": "",
            "description_tooltip": null,
            "layout": "IPY_MODEL_387a5baabb874fb4b650cb993ae06f5b",
            "placeholder": "​",
            "style": "IPY_MODEL_2a9731e0edb5484494a379fcba8071d5",
            "value": " 1.56k/1.56k [00:00&lt;00:00, 91.6kB/s]"
          }
        },
        "dde13bf0a2924cf5b1eb4dbfef65904f": {
          "model_module": "@jupyter-widgets/base",
          "model_name": "LayoutModel",
          "model_module_version": "1.2.0",
          "state": {
            "_model_module": "@jupyter-widgets/base",
            "_model_module_version": "1.2.0",
            "_model_name": "LayoutModel",
            "_view_count": null,
            "_view_module": "@jupyter-widgets/base",
            "_view_module_version": "1.2.0",
            "_view_name": "LayoutView",
            "align_content": null,
            "align_items": null,
            "align_self": null,
            "border": null,
            "bottom": null,
            "display": null,
            "flex": null,
            "flex_flow": null,
            "grid_area": null,
            "grid_auto_columns": null,
            "grid_auto_flow": null,
            "grid_auto_rows": null,
            "grid_column": null,
            "grid_gap": null,
            "grid_row": null,
            "grid_template_areas": null,
            "grid_template_columns": null,
            "grid_template_rows": null,
            "height": null,
            "justify_content": null,
            "justify_items": null,
            "left": null,
            "margin": null,
            "max_height": null,
            "max_width": null,
            "min_height": null,
            "min_width": null,
            "object_fit": null,
            "object_position": null,
            "order": null,
            "overflow": null,
            "overflow_x": null,
            "overflow_y": null,
            "padding": null,
            "right": null,
            "top": null,
            "visibility": null,
            "width": null
          }
        },
        "50a796bd13634a8e8688da062189ac9a": {
          "model_module": "@jupyter-widgets/base",
          "model_name": "LayoutModel",
          "model_module_version": "1.2.0",
          "state": {
            "_model_module": "@jupyter-widgets/base",
            "_model_module_version": "1.2.0",
            "_model_name": "LayoutModel",
            "_view_count": null,
            "_view_module": "@jupyter-widgets/base",
            "_view_module_version": "1.2.0",
            "_view_name": "LayoutView",
            "align_content": null,
            "align_items": null,
            "align_self": null,
            "border": null,
            "bottom": null,
            "display": null,
            "flex": null,
            "flex_flow": null,
            "grid_area": null,
            "grid_auto_columns": null,
            "grid_auto_flow": null,
            "grid_auto_rows": null,
            "grid_column": null,
            "grid_gap": null,
            "grid_row": null,
            "grid_template_areas": null,
            "grid_template_columns": null,
            "grid_template_rows": null,
            "height": null,
            "justify_content": null,
            "justify_items": null,
            "left": null,
            "margin": null,
            "max_height": null,
            "max_width": null,
            "min_height": null,
            "min_width": null,
            "object_fit": null,
            "object_position": null,
            "order": null,
            "overflow": null,
            "overflow_x": null,
            "overflow_y": null,
            "padding": null,
            "right": null,
            "top": null,
            "visibility": null,
            "width": null
          }
        },
        "05a4a68175774513a12b9292a165d4da": {
          "model_module": "@jupyter-widgets/controls",
          "model_name": "DescriptionStyleModel",
          "model_module_version": "1.5.0",
          "state": {
            "_model_module": "@jupyter-widgets/controls",
            "_model_module_version": "1.5.0",
            "_model_name": "DescriptionStyleModel",
            "_view_count": null,
            "_view_module": "@jupyter-widgets/base",
            "_view_module_version": "1.2.0",
            "_view_name": "StyleView",
            "description_width": ""
          }
        },
        "e20d0a9443854977ab33cf59d33dfdce": {
          "model_module": "@jupyter-widgets/base",
          "model_name": "LayoutModel",
          "model_module_version": "1.2.0",
          "state": {
            "_model_module": "@jupyter-widgets/base",
            "_model_module_version": "1.2.0",
            "_model_name": "LayoutModel",
            "_view_count": null,
            "_view_module": "@jupyter-widgets/base",
            "_view_module_version": "1.2.0",
            "_view_name": "LayoutView",
            "align_content": null,
            "align_items": null,
            "align_self": null,
            "border": null,
            "bottom": null,
            "display": null,
            "flex": null,
            "flex_flow": null,
            "grid_area": null,
            "grid_auto_columns": null,
            "grid_auto_flow": null,
            "grid_auto_rows": null,
            "grid_column": null,
            "grid_gap": null,
            "grid_row": null,
            "grid_template_areas": null,
            "grid_template_columns": null,
            "grid_template_rows": null,
            "height": null,
            "justify_content": null,
            "justify_items": null,
            "left": null,
            "margin": null,
            "max_height": null,
            "max_width": null,
            "min_height": null,
            "min_width": null,
            "object_fit": null,
            "object_position": null,
            "order": null,
            "overflow": null,
            "overflow_x": null,
            "overflow_y": null,
            "padding": null,
            "right": null,
            "top": null,
            "visibility": null,
            "width": null
          }
        },
        "59a4b6c0471448b9bc658205b0564c21": {
          "model_module": "@jupyter-widgets/controls",
          "model_name": "ProgressStyleModel",
          "model_module_version": "1.5.0",
          "state": {
            "_model_module": "@jupyter-widgets/controls",
            "_model_module_version": "1.5.0",
            "_model_name": "ProgressStyleModel",
            "_view_count": null,
            "_view_module": "@jupyter-widgets/base",
            "_view_module_version": "1.2.0",
            "_view_name": "StyleView",
            "bar_color": null,
            "description_width": ""
          }
        },
        "387a5baabb874fb4b650cb993ae06f5b": {
          "model_module": "@jupyter-widgets/base",
          "model_name": "LayoutModel",
          "model_module_version": "1.2.0",
          "state": {
            "_model_module": "@jupyter-widgets/base",
            "_model_module_version": "1.2.0",
            "_model_name": "LayoutModel",
            "_view_count": null,
            "_view_module": "@jupyter-widgets/base",
            "_view_module_version": "1.2.0",
            "_view_name": "LayoutView",
            "align_content": null,
            "align_items": null,
            "align_self": null,
            "border": null,
            "bottom": null,
            "display": null,
            "flex": null,
            "flex_flow": null,
            "grid_area": null,
            "grid_auto_columns": null,
            "grid_auto_flow": null,
            "grid_auto_rows": null,
            "grid_column": null,
            "grid_gap": null,
            "grid_row": null,
            "grid_template_areas": null,
            "grid_template_columns": null,
            "grid_template_rows": null,
            "height": null,
            "justify_content": null,
            "justify_items": null,
            "left": null,
            "margin": null,
            "max_height": null,
            "max_width": null,
            "min_height": null,
            "min_width": null,
            "object_fit": null,
            "object_position": null,
            "order": null,
            "overflow": null,
            "overflow_x": null,
            "overflow_y": null,
            "padding": null,
            "right": null,
            "top": null,
            "visibility": null,
            "width": null
          }
        },
        "2a9731e0edb5484494a379fcba8071d5": {
          "model_module": "@jupyter-widgets/controls",
          "model_name": "DescriptionStyleModel",
          "model_module_version": "1.5.0",
          "state": {
            "_model_module": "@jupyter-widgets/controls",
            "_model_module_version": "1.5.0",
            "_model_name": "DescriptionStyleModel",
            "_view_count": null,
            "_view_module": "@jupyter-widgets/base",
            "_view_module_version": "1.2.0",
            "_view_name": "StyleView",
            "description_width": ""
          }
        },
        "0973ede389be45de97d1f7622f26f35c": {
          "model_module": "@jupyter-widgets/controls",
          "model_name": "HBoxModel",
          "model_module_version": "1.5.0",
          "state": {
            "_dom_classes": [],
            "_model_module": "@jupyter-widgets/controls",
            "_model_module_version": "1.5.0",
            "_model_name": "HBoxModel",
            "_view_count": null,
            "_view_module": "@jupyter-widgets/controls",
            "_view_module_version": "1.5.0",
            "_view_name": "HBoxView",
            "box_style": "",
            "children": [
              "IPY_MODEL_234ee4a404994fe8a5c58d1f412ec7b7",
              "IPY_MODEL_9de55f190cdf4371b00258cd1a976b03",
              "IPY_MODEL_855d8b65fe214ece960ce539206ead9c"
            ],
            "layout": "IPY_MODEL_af4d842bbbcd4c03a487995842ca0aca"
          }
        },
        "234ee4a404994fe8a5c58d1f412ec7b7": {
          "model_module": "@jupyter-widgets/controls",
          "model_name": "HTMLModel",
          "model_module_version": "1.5.0",
          "state": {
            "_dom_classes": [],
            "_model_module": "@jupyter-widgets/controls",
            "_model_module_version": "1.5.0",
            "_model_name": "HTMLModel",
            "_view_count": null,
            "_view_module": "@jupyter-widgets/controls",
            "_view_module_version": "1.5.0",
            "_view_name": "HTMLView",
            "description": "",
            "description_tooltip": null,
            "layout": "IPY_MODEL_148e87d98e0941cba167dd830a1c00e2",
            "placeholder": "​",
            "style": "IPY_MODEL_4070fb77b0164314b9f262f3c32e18fe",
            "value": "Downloading (…)rocessor_config.json: 100%"
          }
        },
        "9de55f190cdf4371b00258cd1a976b03": {
          "model_module": "@jupyter-widgets/controls",
          "model_name": "FloatProgressModel",
          "model_module_version": "1.5.0",
          "state": {
            "_dom_classes": [],
            "_model_module": "@jupyter-widgets/controls",
            "_model_module_version": "1.5.0",
            "_model_name": "FloatProgressModel",
            "_view_count": null,
            "_view_module": "@jupyter-widgets/controls",
            "_view_module_version": "1.5.0",
            "_view_name": "ProgressView",
            "bar_style": "success",
            "description": "",
            "description_tooltip": null,
            "layout": "IPY_MODEL_cc545ce434624f27a6a0adc90fe553e0",
            "max": 213,
            "min": 0,
            "orientation": "horizontal",
            "style": "IPY_MODEL_53415d12d82b45c0a7e0c7399c9c60ae",
            "value": 213
          }
        },
        "855d8b65fe214ece960ce539206ead9c": {
          "model_module": "@jupyter-widgets/controls",
          "model_name": "HTMLModel",
          "model_module_version": "1.5.0",
          "state": {
            "_dom_classes": [],
            "_model_module": "@jupyter-widgets/controls",
            "_model_module_version": "1.5.0",
            "_model_name": "HTMLModel",
            "_view_count": null,
            "_view_module": "@jupyter-widgets/controls",
            "_view_module_version": "1.5.0",
            "_view_name": "HTMLView",
            "description": "",
            "description_tooltip": null,
            "layout": "IPY_MODEL_b12d0f7776824f0b85794ff22aef4de4",
            "placeholder": "​",
            "style": "IPY_MODEL_e827624777334b48aa1132a8bbb6f71c",
            "value": " 213/213 [00:00&lt;00:00, 14.6kB/s]"
          }
        },
        "af4d842bbbcd4c03a487995842ca0aca": {
          "model_module": "@jupyter-widgets/base",
          "model_name": "LayoutModel",
          "model_module_version": "1.2.0",
          "state": {
            "_model_module": "@jupyter-widgets/base",
            "_model_module_version": "1.2.0",
            "_model_name": "LayoutModel",
            "_view_count": null,
            "_view_module": "@jupyter-widgets/base",
            "_view_module_version": "1.2.0",
            "_view_name": "LayoutView",
            "align_content": null,
            "align_items": null,
            "align_self": null,
            "border": null,
            "bottom": null,
            "display": null,
            "flex": null,
            "flex_flow": null,
            "grid_area": null,
            "grid_auto_columns": null,
            "grid_auto_flow": null,
            "grid_auto_rows": null,
            "grid_column": null,
            "grid_gap": null,
            "grid_row": null,
            "grid_template_areas": null,
            "grid_template_columns": null,
            "grid_template_rows": null,
            "height": null,
            "justify_content": null,
            "justify_items": null,
            "left": null,
            "margin": null,
            "max_height": null,
            "max_width": null,
            "min_height": null,
            "min_width": null,
            "object_fit": null,
            "object_position": null,
            "order": null,
            "overflow": null,
            "overflow_x": null,
            "overflow_y": null,
            "padding": null,
            "right": null,
            "top": null,
            "visibility": null,
            "width": null
          }
        },
        "148e87d98e0941cba167dd830a1c00e2": {
          "model_module": "@jupyter-widgets/base",
          "model_name": "LayoutModel",
          "model_module_version": "1.2.0",
          "state": {
            "_model_module": "@jupyter-widgets/base",
            "_model_module_version": "1.2.0",
            "_model_name": "LayoutModel",
            "_view_count": null,
            "_view_module": "@jupyter-widgets/base",
            "_view_module_version": "1.2.0",
            "_view_name": "LayoutView",
            "align_content": null,
            "align_items": null,
            "align_self": null,
            "border": null,
            "bottom": null,
            "display": null,
            "flex": null,
            "flex_flow": null,
            "grid_area": null,
            "grid_auto_columns": null,
            "grid_auto_flow": null,
            "grid_auto_rows": null,
            "grid_column": null,
            "grid_gap": null,
            "grid_row": null,
            "grid_template_areas": null,
            "grid_template_columns": null,
            "grid_template_rows": null,
            "height": null,
            "justify_content": null,
            "justify_items": null,
            "left": null,
            "margin": null,
            "max_height": null,
            "max_width": null,
            "min_height": null,
            "min_width": null,
            "object_fit": null,
            "object_position": null,
            "order": null,
            "overflow": null,
            "overflow_x": null,
            "overflow_y": null,
            "padding": null,
            "right": null,
            "top": null,
            "visibility": null,
            "width": null
          }
        },
        "4070fb77b0164314b9f262f3c32e18fe": {
          "model_module": "@jupyter-widgets/controls",
          "model_name": "DescriptionStyleModel",
          "model_module_version": "1.5.0",
          "state": {
            "_model_module": "@jupyter-widgets/controls",
            "_model_module_version": "1.5.0",
            "_model_name": "DescriptionStyleModel",
            "_view_count": null,
            "_view_module": "@jupyter-widgets/base",
            "_view_module_version": "1.2.0",
            "_view_name": "StyleView",
            "description_width": ""
          }
        },
        "cc545ce434624f27a6a0adc90fe553e0": {
          "model_module": "@jupyter-widgets/base",
          "model_name": "LayoutModel",
          "model_module_version": "1.2.0",
          "state": {
            "_model_module": "@jupyter-widgets/base",
            "_model_module_version": "1.2.0",
            "_model_name": "LayoutModel",
            "_view_count": null,
            "_view_module": "@jupyter-widgets/base",
            "_view_module_version": "1.2.0",
            "_view_name": "LayoutView",
            "align_content": null,
            "align_items": null,
            "align_self": null,
            "border": null,
            "bottom": null,
            "display": null,
            "flex": null,
            "flex_flow": null,
            "grid_area": null,
            "grid_auto_columns": null,
            "grid_auto_flow": null,
            "grid_auto_rows": null,
            "grid_column": null,
            "grid_gap": null,
            "grid_row": null,
            "grid_template_areas": null,
            "grid_template_columns": null,
            "grid_template_rows": null,
            "height": null,
            "justify_content": null,
            "justify_items": null,
            "left": null,
            "margin": null,
            "max_height": null,
            "max_width": null,
            "min_height": null,
            "min_width": null,
            "object_fit": null,
            "object_position": null,
            "order": null,
            "overflow": null,
            "overflow_x": null,
            "overflow_y": null,
            "padding": null,
            "right": null,
            "top": null,
            "visibility": null,
            "width": null
          }
        },
        "53415d12d82b45c0a7e0c7399c9c60ae": {
          "model_module": "@jupyter-widgets/controls",
          "model_name": "ProgressStyleModel",
          "model_module_version": "1.5.0",
          "state": {
            "_model_module": "@jupyter-widgets/controls",
            "_model_module_version": "1.5.0",
            "_model_name": "ProgressStyleModel",
            "_view_count": null,
            "_view_module": "@jupyter-widgets/base",
            "_view_module_version": "1.2.0",
            "_view_name": "StyleView",
            "bar_color": null,
            "description_width": ""
          }
        },
        "b12d0f7776824f0b85794ff22aef4de4": {
          "model_module": "@jupyter-widgets/base",
          "model_name": "LayoutModel",
          "model_module_version": "1.2.0",
          "state": {
            "_model_module": "@jupyter-widgets/base",
            "_model_module_version": "1.2.0",
            "_model_name": "LayoutModel",
            "_view_count": null,
            "_view_module": "@jupyter-widgets/base",
            "_view_module_version": "1.2.0",
            "_view_name": "LayoutView",
            "align_content": null,
            "align_items": null,
            "align_self": null,
            "border": null,
            "bottom": null,
            "display": null,
            "flex": null,
            "flex_flow": null,
            "grid_area": null,
            "grid_auto_columns": null,
            "grid_auto_flow": null,
            "grid_auto_rows": null,
            "grid_column": null,
            "grid_gap": null,
            "grid_row": null,
            "grid_template_areas": null,
            "grid_template_columns": null,
            "grid_template_rows": null,
            "height": null,
            "justify_content": null,
            "justify_items": null,
            "left": null,
            "margin": null,
            "max_height": null,
            "max_width": null,
            "min_height": null,
            "min_width": null,
            "object_fit": null,
            "object_position": null,
            "order": null,
            "overflow": null,
            "overflow_x": null,
            "overflow_y": null,
            "padding": null,
            "right": null,
            "top": null,
            "visibility": null,
            "width": null
          }
        },
        "e827624777334b48aa1132a8bbb6f71c": {
          "model_module": "@jupyter-widgets/controls",
          "model_name": "DescriptionStyleModel",
          "model_module_version": "1.5.0",
          "state": {
            "_model_module": "@jupyter-widgets/controls",
            "_model_module_version": "1.5.0",
            "_model_name": "DescriptionStyleModel",
            "_view_count": null,
            "_view_module": "@jupyter-widgets/base",
            "_view_module_version": "1.2.0",
            "_view_name": "StyleView",
            "description_width": ""
          }
        },
        "8f1c91477c4145479f2c81db9e89197f": {
          "model_module": "@jupyter-widgets/controls",
          "model_name": "HBoxModel",
          "model_module_version": "1.5.0",
          "state": {
            "_dom_classes": [],
            "_model_module": "@jupyter-widgets/controls",
            "_model_module_version": "1.5.0",
            "_model_name": "HBoxModel",
            "_view_count": null,
            "_view_module": "@jupyter-widgets/controls",
            "_view_module_version": "1.5.0",
            "_view_name": "HBoxView",
            "box_style": "",
            "children": [
              "IPY_MODEL_af4f882f508a492c8f512b4ba40b9277",
              "IPY_MODEL_3222e21b933c4e779b0490bf56efe7d4",
              "IPY_MODEL_1565dda2abaa424db9e1b0c6c03b551f"
            ],
            "layout": "IPY_MODEL_40f6839679094710aa93fc5c36b9f069"
          }
        },
        "af4f882f508a492c8f512b4ba40b9277": {
          "model_module": "@jupyter-widgets/controls",
          "model_name": "HTMLModel",
          "model_module_version": "1.5.0",
          "state": {
            "_dom_classes": [],
            "_model_module": "@jupyter-widgets/controls",
            "_model_module_version": "1.5.0",
            "_model_name": "HTMLModel",
            "_view_count": null,
            "_view_module": "@jupyter-widgets/controls",
            "_view_module_version": "1.5.0",
            "_view_name": "HTMLView",
            "description": "",
            "description_tooltip": null,
            "layout": "IPY_MODEL_17f70eb0c755438284821b70ecf3ba5e",
            "placeholder": "​",
            "style": "IPY_MODEL_d0be8eff528e4d298aa339399a16651c",
            "value": "Downloading pytorch_model.bin: 100%"
          }
        },
        "3222e21b933c4e779b0490bf56efe7d4": {
          "model_module": "@jupyter-widgets/controls",
          "model_name": "FloatProgressModel",
          "model_module_version": "1.5.0",
          "state": {
            "_dom_classes": [],
            "_model_module": "@jupyter-widgets/controls",
            "_model_module_version": "1.5.0",
            "_model_name": "FloatProgressModel",
            "_view_count": null,
            "_view_module": "@jupyter-widgets/controls",
            "_view_module_version": "1.5.0",
            "_view_name": "ProgressView",
            "bar_style": "success",
            "description": "",
            "description_tooltip": null,
            "layout": "IPY_MODEL_0f7509209a2a48ee8e2d5f5b9842dca5",
            "max": 379940051,
            "min": 0,
            "orientation": "horizontal",
            "style": "IPY_MODEL_efdd775d763048a5b28a39a94bd74f2e",
            "value": 379940051
          }
        },
        "1565dda2abaa424db9e1b0c6c03b551f": {
          "model_module": "@jupyter-widgets/controls",
          "model_name": "HTMLModel",
          "model_module_version": "1.5.0",
          "state": {
            "_dom_classes": [],
            "_model_module": "@jupyter-widgets/controls",
            "_model_module_version": "1.5.0",
            "_model_name": "HTMLModel",
            "_view_count": null,
            "_view_module": "@jupyter-widgets/controls",
            "_view_module_version": "1.5.0",
            "_view_name": "HTMLView",
            "description": "",
            "description_tooltip": null,
            "layout": "IPY_MODEL_c67cc8cab3194a6b92b232d0df3f113a",
            "placeholder": "​",
            "style": "IPY_MODEL_b5395d5f529f45c1be70e181a27dbc2f",
            "value": " 380M/380M [00:05&lt;00:00, 59.7MB/s]"
          }
        },
        "40f6839679094710aa93fc5c36b9f069": {
          "model_module": "@jupyter-widgets/base",
          "model_name": "LayoutModel",
          "model_module_version": "1.2.0",
          "state": {
            "_model_module": "@jupyter-widgets/base",
            "_model_module_version": "1.2.0",
            "_model_name": "LayoutModel",
            "_view_count": null,
            "_view_module": "@jupyter-widgets/base",
            "_view_module_version": "1.2.0",
            "_view_name": "LayoutView",
            "align_content": null,
            "align_items": null,
            "align_self": null,
            "border": null,
            "bottom": null,
            "display": null,
            "flex": null,
            "flex_flow": null,
            "grid_area": null,
            "grid_auto_columns": null,
            "grid_auto_flow": null,
            "grid_auto_rows": null,
            "grid_column": null,
            "grid_gap": null,
            "grid_row": null,
            "grid_template_areas": null,
            "grid_template_columns": null,
            "grid_template_rows": null,
            "height": null,
            "justify_content": null,
            "justify_items": null,
            "left": null,
            "margin": null,
            "max_height": null,
            "max_width": null,
            "min_height": null,
            "min_width": null,
            "object_fit": null,
            "object_position": null,
            "order": null,
            "overflow": null,
            "overflow_x": null,
            "overflow_y": null,
            "padding": null,
            "right": null,
            "top": null,
            "visibility": null,
            "width": null
          }
        },
        "17f70eb0c755438284821b70ecf3ba5e": {
          "model_module": "@jupyter-widgets/base",
          "model_name": "LayoutModel",
          "model_module_version": "1.2.0",
          "state": {
            "_model_module": "@jupyter-widgets/base",
            "_model_module_version": "1.2.0",
            "_model_name": "LayoutModel",
            "_view_count": null,
            "_view_module": "@jupyter-widgets/base",
            "_view_module_version": "1.2.0",
            "_view_name": "LayoutView",
            "align_content": null,
            "align_items": null,
            "align_self": null,
            "border": null,
            "bottom": null,
            "display": null,
            "flex": null,
            "flex_flow": null,
            "grid_area": null,
            "grid_auto_columns": null,
            "grid_auto_flow": null,
            "grid_auto_rows": null,
            "grid_column": null,
            "grid_gap": null,
            "grid_row": null,
            "grid_template_areas": null,
            "grid_template_columns": null,
            "grid_template_rows": null,
            "height": null,
            "justify_content": null,
            "justify_items": null,
            "left": null,
            "margin": null,
            "max_height": null,
            "max_width": null,
            "min_height": null,
            "min_width": null,
            "object_fit": null,
            "object_position": null,
            "order": null,
            "overflow": null,
            "overflow_x": null,
            "overflow_y": null,
            "padding": null,
            "right": null,
            "top": null,
            "visibility": null,
            "width": null
          }
        },
        "d0be8eff528e4d298aa339399a16651c": {
          "model_module": "@jupyter-widgets/controls",
          "model_name": "DescriptionStyleModel",
          "model_module_version": "1.5.0",
          "state": {
            "_model_module": "@jupyter-widgets/controls",
            "_model_module_version": "1.5.0",
            "_model_name": "DescriptionStyleModel",
            "_view_count": null,
            "_view_module": "@jupyter-widgets/base",
            "_view_module_version": "1.2.0",
            "_view_name": "StyleView",
            "description_width": ""
          }
        },
        "0f7509209a2a48ee8e2d5f5b9842dca5": {
          "model_module": "@jupyter-widgets/base",
          "model_name": "LayoutModel",
          "model_module_version": "1.2.0",
          "state": {
            "_model_module": "@jupyter-widgets/base",
            "_model_module_version": "1.2.0",
            "_model_name": "LayoutModel",
            "_view_count": null,
            "_view_module": "@jupyter-widgets/base",
            "_view_module_version": "1.2.0",
            "_view_name": "LayoutView",
            "align_content": null,
            "align_items": null,
            "align_self": null,
            "border": null,
            "bottom": null,
            "display": null,
            "flex": null,
            "flex_flow": null,
            "grid_area": null,
            "grid_auto_columns": null,
            "grid_auto_flow": null,
            "grid_auto_rows": null,
            "grid_column": null,
            "grid_gap": null,
            "grid_row": null,
            "grid_template_areas": null,
            "grid_template_columns": null,
            "grid_template_rows": null,
            "height": null,
            "justify_content": null,
            "justify_items": null,
            "left": null,
            "margin": null,
            "max_height": null,
            "max_width": null,
            "min_height": null,
            "min_width": null,
            "object_fit": null,
            "object_position": null,
            "order": null,
            "overflow": null,
            "overflow_x": null,
            "overflow_y": null,
            "padding": null,
            "right": null,
            "top": null,
            "visibility": null,
            "width": null
          }
        },
        "efdd775d763048a5b28a39a94bd74f2e": {
          "model_module": "@jupyter-widgets/controls",
          "model_name": "ProgressStyleModel",
          "model_module_version": "1.5.0",
          "state": {
            "_model_module": "@jupyter-widgets/controls",
            "_model_module_version": "1.5.0",
            "_model_name": "ProgressStyleModel",
            "_view_count": null,
            "_view_module": "@jupyter-widgets/base",
            "_view_module_version": "1.2.0",
            "_view_name": "StyleView",
            "bar_color": null,
            "description_width": ""
          }
        },
        "c67cc8cab3194a6b92b232d0df3f113a": {
          "model_module": "@jupyter-widgets/base",
          "model_name": "LayoutModel",
          "model_module_version": "1.2.0",
          "state": {
            "_model_module": "@jupyter-widgets/base",
            "_model_module_version": "1.2.0",
            "_model_name": "LayoutModel",
            "_view_count": null,
            "_view_module": "@jupyter-widgets/base",
            "_view_module_version": "1.2.0",
            "_view_name": "LayoutView",
            "align_content": null,
            "align_items": null,
            "align_self": null,
            "border": null,
            "bottom": null,
            "display": null,
            "flex": null,
            "flex_flow": null,
            "grid_area": null,
            "grid_auto_columns": null,
            "grid_auto_flow": null,
            "grid_auto_rows": null,
            "grid_column": null,
            "grid_gap": null,
            "grid_row": null,
            "grid_template_areas": null,
            "grid_template_columns": null,
            "grid_template_rows": null,
            "height": null,
            "justify_content": null,
            "justify_items": null,
            "left": null,
            "margin": null,
            "max_height": null,
            "max_width": null,
            "min_height": null,
            "min_width": null,
            "object_fit": null,
            "object_position": null,
            "order": null,
            "overflow": null,
            "overflow_x": null,
            "overflow_y": null,
            "padding": null,
            "right": null,
            "top": null,
            "visibility": null,
            "width": null
          }
        },
        "b5395d5f529f45c1be70e181a27dbc2f": {
          "model_module": "@jupyter-widgets/controls",
          "model_name": "DescriptionStyleModel",
          "model_module_version": "1.5.0",
          "state": {
            "_model_module": "@jupyter-widgets/controls",
            "_model_module_version": "1.5.0",
            "_model_name": "DescriptionStyleModel",
            "_view_count": null,
            "_view_module": "@jupyter-widgets/base",
            "_view_module_version": "1.2.0",
            "_view_name": "StyleView",
            "description_width": ""
          }
        }
      }
    }
  },
  "cells": [
    {
      "cell_type": "code",
      "execution_count": 1,
      "metadata": {
        "id": "It5TBOL04cAA"
      },
      "outputs": [],
      "source": [
        "import glob\n",
        "import librosa\n",
        "import numpy as np\n",
        "import pandas as pd\n",
        "import pickle\n",
        "import os\n",
        "import matplotlib.pyplot as plt\n",
        "import seaborn as sns"
      ]
    },
    {
      "cell_type": "code",
      "source": [
        "from google.colab import drive\n",
        "drive.mount('/content/drive')"
      ],
      "metadata": {
        "colab": {
          "base_uri": "https://localhost:8080/"
        },
        "id": "WfTtFyQO99RN",
        "outputId": "94ac1a6f-4615-43f4-9dff-15336c03c73b"
      },
      "execution_count": 2,
      "outputs": [
        {
          "output_type": "stream",
          "name": "stdout",
          "text": [
            "Drive already mounted at /content/drive; to attempt to forcibly remount, call drive.mount(\"/content/drive\", force_remount=True).\n"
          ]
        }
      ]
    },
    {
      "cell_type": "code",
      "source": [
        "def get_speaker_id_gender(file):\n",
        "    \"\"\"\n",
        "    Extracts speaker IDs and genders from an input file containing speaker information.\n",
        "\n",
        "    Parameters:\n",
        "        file (str): Path to the input file containing speaker information.\n",
        "\n",
        "    Returns:\n",
        "        tuple: A tuple containing two lists - speaker IDs and genders.\n",
        "               - The first list contains speaker IDs.\n",
        "               - The second list contains corresponding genders.\n",
        "    \"\"\"\n",
        "\n",
        "    id_speaker = []   # List to store speaker IDs\n",
        "    gender_speaker = []   # List to store speaker genders\n",
        "\n",
        "    # Read the information from the input file\n",
        "    with open(file) as f:\n",
        "        info_file = f.readlines()\n",
        "\n",
        "    # Process each line in the file\n",
        "    for line in info_file:\n",
        "        if not line.startswith(';'):   # Skip lines starting with ';'\n",
        "            data_speaker = line.split('|')   # Split the line based on '|'\n",
        "            set_speaker = data_speaker[2].strip()   # Get the speaker set\n",
        "\n",
        "            if 'dev-clean' in set_speaker:\n",
        "                # Add speaker ID and gender to the respective lists\n",
        "                id_speaker.append(data_speaker[0].strip())\n",
        "                gender_speaker.append(data_speaker[1].strip())\n",
        "\n",
        "    return id_speaker, gender_speaker\n"
      ],
      "metadata": {
        "id": "_qMd1YvZ-mzc"
      },
      "execution_count": 3,
      "outputs": []
    },
    {
      "cell_type": "code",
      "source": [
        "def librosa_load(f, sr=16000, offset=None, duration=None):\n",
        "    \"\"\"\n",
        "    Load an audio file using librosa with optional parameters for offset and duration.\n",
        "\n",
        "    Parameters:\n",
        "        f (str): File path to the audio file.\n",
        "        sr (int, optional): Sampling rate for the audio. Defaults to 16000.\n",
        "        offset (float, optional): Start time (in seconds) for audio loading. Defaults to None.\n",
        "        duration (float, optional): Duration (in seconds) of audio to load. Defaults to None.\n",
        "\n",
        "    Returns:\n",
        "        tuple: A tuple containing audio data and the sampling rate.\n",
        "               - The first element is the audio data.\n",
        "               - The second element is the sampling rate.\n",
        "    \"\"\"\n",
        "\n",
        "    if offset is not None and duration is not None and sr is not None:\n",
        "        # Load audio with specified sampling rate, offset, and duration\n",
        "        return librosa.load(f, sr=sr, offset=offset, duration=duration)\n",
        "    else:\n",
        "        # Load audio with specified sampling rate\n",
        "        return librosa.load(f, sr=sr)\n"
      ],
      "metadata": {
        "id": "N3-QxzKjxCV2"
      },
      "execution_count": 4,
      "outputs": []
    },
    {
      "cell_type": "code",
      "source": [
        "def extract_feat(filename):\n",
        "    \"\"\"\n",
        "    Extract MFCC (Mel-Frequency Cepstral Coefficients) features from an audio file.\n",
        "\n",
        "    Parameters:\n",
        "        filename (str): File path to the audio file.\n",
        "\n",
        "    Returns:\n",
        "        numpy.ndarray: 13 MFCC features of the audio.\n",
        "    \"\"\"\n",
        "\n",
        "    audio, sample_rate = librosa_load(filename)  # Load audio using librosa_load\n",
        "\n",
        "    # Extract MFCC features\n",
        "    mfcc_features = librosa.feature.mfcc(y=audio, sr=sample_rate, n_mfcc=13)\n",
        "\n",
        "    return mfcc_features"
      ],
      "metadata": {
        "id": "IA4J_DsRwrtA"
      },
      "execution_count": 5,
      "outputs": []
    },
    {
      "cell_type": "code",
      "source": [
        "def get_feat_labels(file_path):\n",
        "    \"\"\"\n",
        "    Extract MFCC features from audio files for each speaker, along with speaker IDs and gender.\n",
        "    Save the features, speaker IDs, and gender to a DataFrame and pickle the DataFrame to a file.\n",
        "\n",
        "    Parameters:\n",
        "        file_path (str): Path to save the pickled DataFrame.\n",
        "\n",
        "    Returns:\n",
        "        None\n",
        "    \"\"\"\n",
        "\n",
        "    # Paths and data for audio and speakers\n",
        "    dir = '/content/drive/MyDrive/dev-clean'\n",
        "    speakers = '/content/drive/MyDrive/SPEAKERS.TXT'\n",
        "\n",
        "    # Get speaker IDs and gender from the provided speakers file\n",
        "    id_speaker, gender_speaker = get_speaker_id_gender(speakers)\n",
        "\n",
        "    # List of column names for the DataFrame\n",
        "    column_names = ['MFCC_0', 'MFCC_1', 'MFCC_2', ..., 'MFCC_12', 'Speaker_ID', 'Gender', 'Audio']\n",
        "\n",
        "    # Initialize an empty DataFrame with the specified column names\n",
        "    df_final = pd.DataFrame(columns=column_names)\n",
        "\n",
        "    # Iterate through each speaker\n",
        "    for index, id in enumerate(id_speaker):\n",
        "        print(id)\n",
        "\n",
        "        # Get the audio files for the current speaker\n",
        "        dir_audios = dir + '/' + id + '/*/*.flac'\n",
        "        file_list = glob.glob(dir_audios)\n",
        "\n",
        "        # Iterate through each audio file for the current speaker\n",
        "        for audio in file_list:\n",
        "            # Extract MFCC features from the audio file\n",
        "            mfccs_audio = extract_feat(audio)\n",
        "            transposed_mfcc = mfccs_audio.T\n",
        "\n",
        "            # Create a DataFrame for the MFCC features\n",
        "            df_mfcc = pd.DataFrame(transposed_mfcc, columns=[f'MFCC_{i}' for i in range(13)])\n",
        "\n",
        "            # Create an auxiliary DataFrame with Speaker_ID, Gender, and Audio information\n",
        "            aux_df = pd.DataFrame({\n",
        "                'Speaker_ID': [id] * transposed_mfcc.shape[0],\n",
        "                'Gender': [gender_speaker[index]] * transposed_mfcc.shape[0],\n",
        "                'Audio': [audio] * transposed_mfcc.shape[0]\n",
        "            })\n",
        "\n",
        "            # Concatenate the MFCC DataFrame and the auxiliary DataFrame\n",
        "            df_result = pd.concat([df_mfcc, aux_df], axis=1)\n",
        "\n",
        "            # Concatenate the result with the final DataFrame\n",
        "            df_final = pd.concat([df_result, df_final])\n",
        "\n",
        "    # Save the final DataFrame to a pickle file\n",
        "    with open(file_path, 'wb') as file:\n",
        "        pickle.dump(df_final, file)"
      ],
      "metadata": {
        "id": "qZhfRjnZIU9C"
      },
      "execution_count": 6,
      "outputs": []
    },
    {
      "cell_type": "code",
      "source": [
        "# Define the file path for the pickle file\n",
        "file_path = '/content/drive/MyDrive/pandas_dataframe_audio.pkl'\n",
        "\n",
        "# Check if the file at the specified file_path exists\n",
        "if os.path.exists(file_path):\n",
        "    # If the file exists, load the data from the pickle file\n",
        "    print('File exists, load data')\n",
        "    with open(file_path, 'rb') as file:\n",
        "        df = pickle.load(file)\n",
        "else:\n",
        "    # If the file doesn't exist, print a message and extract features\n",
        "    print('File does not exist. Extract features')\n",
        "    get_feat_labels(file_path)"
      ],
      "metadata": {
        "colab": {
          "base_uri": "https://localhost:8080/"
        },
        "id": "aT4t1hS0yuJY",
        "outputId": "08c5a921-1af7-43b6-e2d2-e28015aac114"
      },
      "execution_count": 7,
      "outputs": [
        {
          "output_type": "stream",
          "name": "stdout",
          "text": [
            "File exists, load data\n"
          ]
        }
      ]
    },
    {
      "cell_type": "markdown",
      "source": [
        "**Data Visualization of the mfccs from the audios extracted**"
      ],
      "metadata": {
        "id": "_CM64h8w2gbF"
      }
    },
    {
      "cell_type": "code",
      "source": [
        "def get_mfcc_for_audio(df,gender):\n",
        "  \"\"\"\n",
        "    Retrieve MFCC features for an audio of the specified gender from the given DataFrame.\n",
        "\n",
        "    Parameters:\n",
        "        df (pd.DataFrame): Input DataFrame containing MFCC features, speaker IDs, genders, and audio paths.\n",
        "        gender (str): Gender to filter the DataFrame.\n",
        "\n",
        "    Returns:\n",
        "        numpy.ndarray: MFCC features for a randomly selected audio of the specified gender.\n",
        "                        Rows represent each MFCC coefficient, and columns represent samples.\n",
        "    \"\"\"\n",
        "\n",
        "  # Randomly sample an audio for the specified gender\n",
        "  sample_data = df[df['Gender'] == gender].sample(n=1)\n",
        "  audio_sample = sample_data['Audio'].values[0]\n",
        "  speaker_id = sample_data['Speaker_ID'].values[0]\n",
        "\n",
        "  # Filter the DataFrame for the specified audio sample and gender\n",
        "  filtered_data = df[(df['Audio'] == audio_sample) & (df['Gender'] == gender) & (df['Speaker_ID'] == speaker_id)]\n",
        "\n",
        "  # Initialize an array to store MFCC features\n",
        "  mfcc_matrix = np.zeros((13, len(filtered_data)))\n",
        "\n",
        "  # Fill the MFCC matrix with MFCC coefficients\n",
        "  for i in range(13):\n",
        "      mfcc_matrix[i, :] = filtered_data[f'MFCC_{i}'].to_numpy()\n",
        "\n",
        "  return mfcc_matrix"
      ],
      "metadata": {
        "id": "9zxKqEsuJaZS"
      },
      "execution_count": 8,
      "outputs": []
    },
    {
      "cell_type": "code",
      "source": [
        "def plot_mfccs_gender(df):\n",
        "    \"\"\"\n",
        "    Plot MFCC features for both female and male genders.\n",
        "\n",
        "    Parameters:\n",
        "        df (pd.DataFrame): Input DataFrame containing MFCC features, speaker IDs, genders, and audio paths.\n",
        "\n",
        "    Returns:\n",
        "        None\n",
        "    \"\"\"\n",
        "\n",
        "    # Retrieve MFCC features for female and male genders for one audio sample\n",
        "    mfcc_female = get_mfcc_for_audio(df, 'F')\n",
        "    mfcc_male = get_mfcc_for_audio(df, 'M')\n",
        "\n",
        "    # Plot the MFCC features for female and male in subplots\n",
        "    plt.subplot(1, 2, 1)  # row 1, col 2 index 1\n",
        "    librosa.display.specshow(mfcc_female)\n",
        "    plt.ylabel('MFCC female')\n",
        "    plt.xlabel('Time')\n",
        "    plt.colorbar()\n",
        "\n",
        "    plt.subplot(1, 2, 2)  # index 2\n",
        "    librosa.display.specshow(mfcc_male)\n",
        "    plt.ylabel('MFCC male')\n",
        "    plt.xlabel('Time')\n",
        "    plt.colorbar()\n",
        "\n",
        "    plt.show()\n"
      ],
      "metadata": {
        "id": "gtDJiSR6T7mO"
      },
      "execution_count": 10,
      "outputs": []
    },
    {
      "cell_type": "code",
      "source": [
        "plot_mfccs_gender(df)"
      ],
      "metadata": {
        "colab": {
          "base_uri": "https://localhost:8080/",
          "height": 426
        },
        "id": "pboZbniBVT7o",
        "outputId": "2acfe5e0-c7b2-4eba-f702-0871981d8286"
      },
      "execution_count": null,
      "outputs": [
        {
          "output_type": "display_data",
          "data": {
            "text/plain": [
              "<Figure size 640x480 with 4 Axes>"
            ],
            "image/png": "[encoded data removed]"
          },
          "metadata": {}
        }
      ]
    },
    {
      "cell_type": "code",
      "source": [
        "def plot_boxplot_or_violinplot(df, keyword):\n",
        "    \"\"\"\n",
        "    Plot boxplot or violin plot for MFCC coefficients by gender.\n",
        "\n",
        "    Parameters:\n",
        "        df (pd.DataFrame): Input DataFrame containing MFCC features and gender information.\n",
        "        keyword (str): Keyword indicating the type of plot ('violin' or 'boxplot').\n",
        "\n",
        "    Returns:\n",
        "        None\n",
        "    \"\"\"\n",
        "\n",
        "    # Extract MFCC columns and gender from the DataFrame\n",
        "    mfcc_columns = [f'MFCC_{i}' for i in range(13)]\n",
        "    mfcc_data = df[mfcc_columns + ['Gender']]\n",
        "\n",
        "    # Transform the DataFrame for suitable plotting\n",
        "    mfcc_data_plot = mfcc_data.melt(id_vars='Gender', value_vars=mfcc_columns, var_name='MFCC', value_name='MFCC Value')\n",
        "\n",
        "    if keyword in 'violin':\n",
        "        # Plot a violin plot for MFCC values by gender\n",
        "        plt.figure(figsize=(15, 8))\n",
        "        sns.violinplot(x='MFCC', y='MFCC Value', hue='Gender', data=mfcc_data_plot, split=True, inner='quartile')\n",
        "        plt.title('Violin Plot of MFCCs for Male and Female Speakers')\n",
        "\n",
        "    elif keyword in 'boxplot':\n",
        "        # Plot a boxplot for MFCC values by gender\n",
        "        plt.figure(figsize=(12, 6))\n",
        "        sns.boxplot(x='MFCC', y='MFCC Value', hue='Gender', data=mfcc_data_plot, palette='Set2')\n",
        "        plt.title('Box Plots of MFCCs for Male and Female Speakers')\n",
        "        plt.legend(title='Gender', loc='upper right')\n",
        "        plt.tight_layout()\n",
        "\n",
        "    plt.xlabel('MFCC Coefficients')\n",
        "    plt.ylabel('MFCC Values')\n",
        "    plt.xticks(rotation=45)\n",
        "    plt.show()"
      ],
      "metadata": {
        "id": "jZqm9rrbCD4b"
      },
      "execution_count": 11,
      "outputs": []
    },
    {
      "cell_type": "code",
      "source": [
        "plot_boxplot_or_violinplot(df,'boxplot')"
      ],
      "metadata": {
        "colab": {
          "base_uri": "https://localhost:8080/",
          "height": 592
        },
        "id": "ti-qr1IXDO9v",
        "outputId": "5444c154-ef03-4ed0-e10e-7884f9bbebfc"
      },
      "execution_count": null,
      "outputs": [
        {
          "output_type": "display_data",
          "data": {
            "text/plain": [
              "<Figure size 1200x600 with 1 Axes>"
            ],
            "image/png": "[encoded data removed]"
          },
          "metadata": {}
        }
      ]
    },
    {
      "cell_type": "code",
      "source": [
        "def calculate_mean_std_per_audio(df):\n",
        "    \"\"\"\n",
        "    Calculate mean and standard deviation of MFCCs for each audio, gender, and speaker.\n",
        "\n",
        "    Parameters:\n",
        "        df (pd.DataFrame): Input DataFrame containing MFCC features, speaker IDs, genders, and audio paths.\n",
        "\n",
        "    Returns:\n",
        "        pd.DataFrame: DataFrame with mean and standard deviation of MFCCs per audio, gender, and speaker.\n",
        "    \"\"\"\n",
        "\n",
        "    # Group by 'Audio', 'Gender', and 'Speaker_ID' and calculate mean and std for MFCCs\n",
        "    mfcc_mean_std = df.groupby(['Audio', 'Gender', 'Speaker_ID']).agg({\n",
        "        **{f'MFCC_{i}': ['mean', 'std'] for i in range(13)}}\n",
        "    )\n",
        "\n",
        "    # Flatten the column names for easier use\n",
        "    mfcc_mean_std.columns = ['_'.join(col).strip() for col in mfcc_mean_std.columns.values]\n",
        "\n",
        "    # Reset index to make 'Audio', 'Gender', and 'Speaker_ID' as regular columns\n",
        "    mfcc_mean_std.reset_index(inplace=True)\n",
        "\n",
        "    # Return the resulting DataFrame with mean and standard deviation of MFCCs\n",
        "    return mfcc_mean_std\n"
      ],
      "metadata": {
        "id": "PAIlt0RcF-M-"
      },
      "execution_count": 12,
      "outputs": []
    },
    {
      "cell_type": "code",
      "source": [
        "mfcc_mean_std = calculate_mean_std_per_audio(df)"
      ],
      "metadata": {
        "id": "9fGsjszrHiDz"
      },
      "execution_count": null,
      "outputs": []
    },
    {
      "cell_type": "code",
      "source": [
        "def plot_hists(df, keyword):\n",
        "    \"\"\"\n",
        "    Plot histograms of MFCCs for male and female speakers.\n",
        "\n",
        "    Parameters:\n",
        "        df (pd.DataFrame): Input DataFrame containing MFCC features, speaker IDs, genders, and audio paths.\n",
        "        keyword (str): Keyword indicating the type of MFCC representation ('per_frame' or 'per_audio').\n",
        "\n",
        "    Returns:\n",
        "        None\n",
        "    \"\"\"\n",
        "\n",
        "    # List of MFCC column names based on the keyword\n",
        "    if 'per_frame' in keyword:\n",
        "        mfcc_columns = [f'MFCC_{i}' for i in range(13)]\n",
        "    elif 'per_audio' in keyword:\n",
        "        mfcc_columns = [f'MFCC_{i}_mean' for i in range(13)] + [f'MFCC_{i}_std' for i in range(13)]\n",
        "\n",
        "    # Create a grid of subplots\n",
        "    fig, axes = plt.subplots(nrows=7, ncols=4, figsize=(15, 20))\n",
        "\n",
        "    fig.suptitle('Histograms of MFCCs for Male and Female')\n",
        "\n",
        "    for i, ax in enumerate(axes.flat):\n",
        "        if i < len(mfcc_columns):\n",
        "            mfcc_column = mfcc_columns[i]\n",
        "            ax.hist(df[df['Gender'] == 'M'][mfcc_column], alpha=0.5, label='Male', color='blue', bins=30)\n",
        "            ax.hist(df[df['Gender'] == 'F'][mfcc_column], alpha=0.5, label='Female', color='orange', bins=30)\n",
        "            ax.set_xlabel('MFCC Value')\n",
        "            ax.set_ylabel('Frequency')\n",
        "            ax.set_title(f'{mfcc_column}')\n",
        "            ax.legend()\n",
        "\n",
        "    # Hide empty subplots if any\n",
        "    for i in range(len(mfcc_columns), len(axes.flat)):\n",
        "        fig.delaxes(axes.flatten()[i])\n",
        "\n",
        "    plt.tight_layout(rect=[0, 0, 1, 0.97])\n",
        "    plt.show()\n"
      ],
      "metadata": {
        "id": "R7mhnNbKI1lw"
      },
      "execution_count": 13,
      "outputs": []
    },
    {
      "cell_type": "code",
      "source": [
        "plot_hists(df,'per_frame')"
      ],
      "metadata": {
        "colab": {
          "base_uri": "https://localhost:8080/",
          "height": 933
        },
        "id": "D83kVBkoONt-",
        "outputId": "3cb3590b-4de4-41c2-9ecc-e5cae26f76d3"
      },
      "execution_count": null,
      "outputs": [
        {
          "output_type": "display_data",
          "data": {
            "text/plain": [
              "<Figure size 1500x2000 with 13 Axes>"
            ],
            "image/png": "[encoded data removed]"
          },
          "metadata": {}
        }
      ]
    },
    {
      "cell_type": "code",
      "source": [
        "plot_hists(mfcc_mean_std,'per_audio')"
      ],
      "metadata": {
        "colab": {
          "base_uri": "https://localhost:8080/",
          "height": 1000
        },
        "id": "43KH6JFGOQvb",
        "outputId": "48df34c6-cf67-4b5b-b026-84dc13dc8702"
      },
      "execution_count": null,
      "outputs": [
        {
          "output_type": "display_data",
          "data": {
            "text/plain": [
              "<Figure size 1500x2000 with 26 Axes>"
            ],
            "image/png": "[encoded data removed]"
          },
          "metadata": {}
        }
      ]
    },
    {
      "cell_type": "markdown",
      "source": [
        "**Comments on Data Visualization:**\n",
        "We computed the 13 MFCC coefficients for each frame across all available audio samples. Subsequently, we generated box plots for these coefficients, categorizing them by gender. Additionally, histograms were plotted to visualize the distribution. The first set of histograms represents the mean and standard deviation for each MFCC, calculated per audio and segregated by gender. In the second set of histograms we show the values of the MFCC coefficients for each frame.\n",
        "We observed that while some coefficients exhibit similar distributions, others showcase significant differences. For instance, in the first set of histograms, we can focus on MFCC number 1, where we notice distinct value distributions for both males and females. This observation suggests that the 13 selected MFCCs possess adequate differences between females and males for the chosen models to capture effectively.\n",
        "\n",
        "\n",
        "\n",
        "\n"
      ],
      "metadata": {
        "id": "3AYv85dg-XBR"
      }
    },
    {
      "cell_type": "markdown",
      "source": [
        "**Outlier detection: implementing two different techniques, z-score and Inter Quartile Range(IQR)**"
      ],
      "metadata": {
        "id": "QoaRm_eCEkQV"
      }
    },
    {
      "cell_type": "code",
      "source": [
        "def calculate_zcore(df):\n",
        "    \"\"\"\n",
        "    Calculate z-scores for MFCC dimensions and identify outliers based on a specified threshold.\n",
        "\n",
        "    Parameters:\n",
        "        df (pd.DataFrame): Input DataFrame containing MFCC features.\n",
        "\n",
        "    Returns:\n",
        "        None\n",
        "    \"\"\"\n",
        "\n",
        "    # Extract MFCC column names\n",
        "    mfcc_columns = [f'MFCC_{i}' for i in range(13)]\n",
        "\n",
        "    # Extract MFCC data from the DataFrame\n",
        "    mfcc_data = df[mfcc_columns]\n",
        "\n",
        "    # Calculate z-scores for each MFCC dimension\n",
        "    z_scores = (mfcc_data - mfcc_data.mean()) / mfcc_data.std()\n",
        "\n",
        "    # Define a threshold for outlier detection (e.g., z-score > 3)\n",
        "    threshold = 3\n",
        "\n",
        "    # Mark outliers (True if the z-score exceeds the threshold, indicating an outlier)\n",
        "    outliers = np.abs(z_scores) > threshold\n",
        "\n",
        "    # Print the count of outliers for each MFCC dimension\n",
        "    print(\"Count of outliers for each MFCC:\")\n",
        "    print(outliers.sum())\n",
        "\n",
        "    # Mark rows with any outlier (True if any MFCC dimension is an outlier)\n",
        "    df['Is_Outlier'] = outliers.any(axis=1)\n",
        "\n",
        "    # Filter the DataFrame to exclude rows with outliers\n",
        "    df_filtered = df[~df['Is_Outlier']]"
      ],
      "metadata": {
        "id": "7DnKgT-qQb-R"
      },
      "execution_count": 14,
      "outputs": []
    },
    {
      "cell_type": "code",
      "source": [
        "calculate_zcore(df)"
      ],
      "metadata": {
        "colab": {
          "base_uri": "https://localhost:8080/"
        },
        "id": "Txp-28kxBEbN",
        "outputId": "2c00a8aa-52c8-4a9f-9abf-3aadf783f247"
      },
      "execution_count": 15,
      "outputs": [
        {
          "output_type": "stream",
          "name": "stdout",
          "text": [
            "Count of outliers for each MFCC:\n",
            "MFCC_0       80\n",
            "MFCC_1     2332\n",
            "MFCC_2     1857\n",
            "MFCC_3     1943\n",
            "MFCC_4     3455\n",
            "MFCC_5     2672\n",
            "MFCC_6     1558\n",
            "MFCC_7     2619\n",
            "MFCC_8     1640\n",
            "MFCC_9     2359\n",
            "MFCC_10    3514\n",
            "MFCC_11    2916\n",
            "MFCC_12    3279\n",
            "dtype: int64\n"
          ]
        }
      ]
    },
    {
      "cell_type": "code",
      "source": [
        "def calculate_outliers_iqr(df):\n",
        "    \"\"\"\n",
        "    Calculate outliers for MFCC dimensions using the Interquartile Range (IQR) method.\n",
        "\n",
        "    Parameters:\n",
        "        df (pd.DataFrame): Input DataFrame containing MFCC features.\n",
        "\n",
        "    Returns:\n",
        "        None\n",
        "    \"\"\"\n",
        "\n",
        "    # Select only the MFCC columns\n",
        "    mfcc_columns = [f'MFCC_{i}' for i in range(13)]\n",
        "    mfcc_data = df[mfcc_columns]\n",
        "\n",
        "    # Calculate the first quartile (Q1)\n",
        "    Q1 = mfcc_data.quantile(0.25)\n",
        "\n",
        "    # Calculate the third quartile (Q3)\n",
        "    Q3 = mfcc_data.quantile(0.75)\n",
        "\n",
        "    # Calculate the interquartile range (IQR)\n",
        "    IQR = Q3 - Q1\n",
        "\n",
        "    # Define the lower and upper bounds for outlier detection\n",
        "    lower_bound = Q1 - 1.5 * IQR\n",
        "    upper_bound = Q3 + 1.5 * IQR\n",
        "\n",
        "    # Detect outliers\n",
        "    outliers = (mfcc_data < lower_bound) | (mfcc_data > upper_bound)\n",
        "\n",
        "    # Print the count of outliers for each MFCC dimension\n",
        "    print(\"Count of outliers for each MFCC:\")\n",
        "    print(outliers.sum())\n",
        "\n",
        "    # Add a new column to the DataFrame to indicate if a row is an outlier\n",
        "    df['Is_Outlier'] = outliers.any(axis=1)\n",
        "\n",
        "    # Filter the DataFrame to exclude rows with outliers\n",
        "    df_filtered = df[~df['Is_Outlier']]"
      ],
      "metadata": {
        "id": "KzFYIqAoHR7T"
      },
      "execution_count": 16,
      "outputs": []
    },
    {
      "cell_type": "code",
      "source": [
        "calculate_outliers_iqr(df)"
      ],
      "metadata": {
        "colab": {
          "base_uri": "https://localhost:8080/"
        },
        "id": "-YbS_OwABKHK",
        "outputId": "f981526e-b988-4d28-cf4f-de637de801fc"
      },
      "execution_count": 17,
      "outputs": [
        {
          "output_type": "stream",
          "name": "stdout",
          "text": [
            "Count of outliers for each MFCC:\n",
            "MFCC_0     4607\n",
            "MFCC_1     7940\n",
            "MFCC_2     6680\n",
            "MFCC_3     8135\n",
            "MFCC_4     7602\n",
            "MFCC_5     7054\n",
            "MFCC_6     3061\n",
            "MFCC_7     5477\n",
            "MFCC_8     3817\n",
            "MFCC_9     5391\n",
            "MFCC_10    8252\n",
            "MFCC_11    7826\n",
            "MFCC_12    9336\n",
            "dtype: int64\n"
          ]
        }
      ]
    },
    {
      "cell_type": "markdown",
      "source": [
        "**Comments on outlier detection:**\n",
        "\n",
        "The counts of outliers vary notably between the z-score and IQR methods for each MFCC, indicating differing sensitivity levels to outliers. Nevertheless, certain coefficients consistently exhibit a high number of outliers across both methods. This suggests that these coefficients may have a lower impact when training a model."
      ],
      "metadata": {
        "id": "kJ1lQbhbBMzL"
      }
    },
    {
      "cell_type": "markdown",
      "source": [
        "**Normalization of the mfccs:**\n",
        "Global cepstral mean and variance normalization(CMVN)\n",
        "\n"
      ],
      "metadata": {
        "id": "hAXv1aCNIAvU"
      }
    },
    {
      "cell_type": "code",
      "source": [
        "def perform_cmvn(df, mfcc_columns):\n",
        "    \"\"\"\n",
        "    Perform Cepstral Mean and Variance Normalization (CMVN) on specified MFCC columns of a DataFrame.\n",
        "\n",
        "    Parameters:\n",
        "        df (pd.DataFrame): Input DataFrame.\n",
        "        mfcc_columns (list): List of MFCC column names to perform CMVN on.\n",
        "\n",
        "    Returns:\n",
        "        pd.DataFrame: DataFrame with CMVN applied to specified MFCC columns.\n",
        "    \"\"\"\n",
        "    df_normalized = df.copy()  # Create a copy to avoid modifying the original DataFrame\n",
        "\n",
        "    for col in mfcc_columns:\n",
        "        # Calculate mean and variance for the current column\n",
        "        mean = df[col].mean()\n",
        "        variance = df[col].var()\n",
        "\n",
        "        # Perform mean normalization\n",
        "        df_normalized[col] = df[col] - mean\n",
        "\n",
        "        # Perform variance normalization\n",
        "        epsilon = 1e-10  # Small constant to prevent division by zero\n",
        "        df_normalized[col] = df_normalized[col] / (np.sqrt(variance) + epsilon)\n",
        "\n",
        "    return df_normalized\n",
        "\n",
        "\n",
        "# Columns to apply CMVN (MFCC features)\n",
        "mfcc_columns = [f'MFCC_{i}' for i in range(13)]\n",
        "\n",
        "# Perform CMVN on specified MFCC columns\n",
        "df_normalized = perform_cmvn(df, mfcc_columns)"
      ],
      "metadata": {
        "id": "Zs4MhCPNjj9E"
      },
      "execution_count": 18,
      "outputs": []
    },
    {
      "cell_type": "code",
      "source": [
        "# Extract the normalized MFCC features (X_norm) and gender labels (y_norm)\n",
        "X_norm = df_normalized[[f'MFCC_{i}' for i in range(13)]].values  # Extract normalized MFCC features\n",
        "y_norm = df_normalized['Gender'].values  # Extract gender labels (target variable)\n",
        "all_audios_ids = df_normalized['Audio'].values  # Extract gender labels (target variable)"
      ],
      "metadata": {
        "id": "mKxUu4JEH_4M"
      },
      "execution_count": 19,
      "outputs": []
    },
    {
      "cell_type": "markdown",
      "source": [
        "We will be dividing our data in 80% train and 20% test and we are ploting the number of female and males samples in each one of the sets to ensure that we have an equal representation between the two in both sets, if not we should look for another set."
      ],
      "metadata": {
        "id": "NnlCLlesP6fL"
      }
    },
    {
      "cell_type": "code",
      "source": [
        "def check_distribution_labels(y_train, y_test, tolerance):\n",
        "    \"\"\"\n",
        "    Check the distribution of labels (e.g., gender) in training and testing sets.\n",
        "\n",
        "    Parameters:\n",
        "        y_train (numpy.ndarray): Labels for the training set.\n",
        "        y_test (numpy.ndarray): Labels for the testing set.\n",
        "        tolerance (float): Tolerance threshold for label distribution.\n",
        "\n",
        "    Returns:\n",
        "        bool: True if label distribution is within the tolerance, False otherwise.\n",
        "    \"\"\"\n",
        "\n",
        "    # Calculate the counts of each class in y_train\n",
        "    train_count_male = np.sum(y_train == 'M')\n",
        "    train_count_female = np.sum(y_train == 'F')\n",
        "\n",
        "    # Calculate the counts of each class in y_test\n",
        "    test_count_male = np.sum(y_test == 'M')\n",
        "    test_count_female = np.sum(y_test == 'F')\n",
        "\n",
        "    # Calculate the percentage of males in training and testing sets\n",
        "    perc_train_male = train_count_male / (train_count_male + train_count_female)\n",
        "    perc_test_male = test_count_male / (test_count_male + test_count_female)\n",
        "\n",
        "    # Check if the percentage of males is within the tolerance for both training and testing sets\n",
        "    if perc_train_male < tolerance or perc_test_male < tolerance:\n",
        "        return False\n",
        "    else:\n",
        "        return True\n"
      ],
      "metadata": {
        "id": "gBuTrAULRsms"
      },
      "execution_count": 20,
      "outputs": []
    },
    {
      "cell_type": "code",
      "source": [
        "from sklearn.model_selection import train_test_split\n",
        "\n",
        "pickle_file_path = \"/content/drive/MyDrive/x_train_x_test.pickle\"\n",
        "\n",
        "if not os.path.exists(pickle_file_path):\n",
        "  print('Does not exist. Split the data')\n",
        "  # Initial split\n",
        "  X_train, X_test, y_train, y_test = train_test_split(X_norm, y_norm, test_size=0.2, random_state=None, shuffle=True)\n",
        "\n",
        "  # Check the distribution and re-split if needed\n",
        "  if not check_distribution_labels(y_train, y_test, 0.4):\n",
        "      while not check_distribution_labels(y_train, y_test):\n",
        "          X_train, X_test, y_train, y_test = train_test_split(X_norm, y_norm, test_size=0.2, random_state=None, shuffle=True)\n",
        "\n",
        "  # Save the split data into a pickle file\n",
        "  with open(pickle_file_path, 'wb') as pickle_file:\n",
        "      pickle.dump((X_train, X_test, y_train, y_test), pickle_file)\n",
        "else:\n",
        "  # Load the split data from the pickle file\n",
        "  print('Already exists.Load data.')\n",
        "  with open(pickle_file_path, 'rb') as pickle_file:\n",
        "      X_train, X_test, y_train, y_test = pickle.load(pickle_file)"
      ],
      "metadata": {
        "colab": {
          "base_uri": "https://localhost:8080/"
        },
        "id": "lhXfaKVCryqp",
        "outputId": "06e5f6eb-deb6-4c54-aff7-4d9d10b50e5c"
      },
      "execution_count": 21,
      "outputs": [
        {
          "output_type": "stream",
          "name": "stdout",
          "text": [
            "Already exists.Load data.\n"
          ]
        }
      ]
    },
    {
      "cell_type": "code",
      "source": [
        "from sklearn.model_selection import train_test_split\n",
        "\n",
        "pickle_file_path = \"/content/drive/MyDrive/trial.pickle\"\n",
        "\n",
        "if not os.path.exists(pickle_file_path):\n",
        "    print('Does not exist. Split the data')\n",
        "\n",
        "    # Get the indices of the original X_norm\n",
        "    indices = range(len(X_norm))\n",
        "\n",
        "    # Initial split\n",
        "    indices_train, indices_test, y_train, y_test = train_test_split(indices, y_norm, test_size=0.2, random_state=None, shuffle=True)\n",
        "\n",
        "    # Use the obtained indices to extract X_train and X_test\n",
        "    X_train = X_norm[indices_train]\n",
        "    X_test = X_norm[indices_test]\n",
        "\n",
        "    # Check the distribution and re-split if needed\n",
        "    if not check_distribution_labels(y_train, y_test, 0.4):\n",
        "        while not check_distribution_labels(y_train, y_test):\n",
        "            indices_train, indices_test, y_train, y_test = train_test_split(indices, y_norm, test_size=0.2, random_state=None, shuffle=True)\n",
        "            X_train = X_norm[indices_train]\n",
        "            X_test = X_norm[indices_test]\n",
        "\n",
        "    # Save the split data and indices into a pickle file\n",
        "    with open(pickle_file_path, 'wb') as pickle_file:\n",
        "        pickle.dump((X_train, X_test, y_train, y_test, indices_train, indices_test), pickle_file)\n",
        "else:\n",
        "    # Load the split data and indices from the pickle file\n",
        "    print('Already exists. Load data.')\n",
        "    with open(pickle_file_path, 'rb') as pickle_file:\n",
        "        X_train, X_test, y_train, y_test, indices_train, indices_test = pickle.load(pickle_file)\n"
      ],
      "metadata": {
        "colab": {
          "base_uri": "https://localhost:8080/"
        },
        "id": "86E-IH770QqE",
        "outputId": "e7d8bae1-8ade-401b-83e9-2bdf264f9a3c"
      },
      "execution_count": 22,
      "outputs": [
        {
          "output_type": "stream",
          "name": "stdout",
          "text": [
            "Already exists. Load data.\n"
          ]
        }
      ]
    },
    {
      "cell_type": "code",
      "source": [
        "from collections import Counter\n",
        "\n",
        "def get_y(audio_ids_test, y_pred):\n",
        "    \"\"\"\n",
        "    Predicts the gender for each unique audio ID based on the most frequently predicted gender.\n",
        "\n",
        "    Parameters:\n",
        "        audio_ids_test (list): A list of audio IDs corresponding to the samples.\n",
        "        y_pred (list): A list of predicted genders for each sample.\n",
        "\n",
        "    Returns:\n",
        "        list: A list of tuples, each containing an audio ID and the most common predicted gender for that audio.\n",
        "    \"\"\"\n",
        "\n",
        "    # Create a dictionary to store predicted genders for each audio ID and count them\n",
        "    audio_to_predicted_gender_count = {}\n",
        "\n",
        "    # Iterate through the audio IDs and corresponding predicted genders\n",
        "    for audio_id, predicted_gender in zip(audio_ids_test, y_pred):\n",
        "        if audio_id not in audio_to_predicted_gender_count:\n",
        "            # If the audio ID is not in the dictionary, create a new entry\n",
        "            audio_to_predicted_gender_count[audio_id] = Counter()\n",
        "\n",
        "        # Count the predicted gender for this audio\n",
        "        audio_to_predicted_gender_count[audio_id][predicted_gender] += 1\n",
        "\n",
        "    # Initialize a list to store the final predicted genders for each audio ID\n",
        "    final_predicted_genders_per_audio = []\n",
        "\n",
        "    # Iterate through the unique audio IDs and determine the most common predicted gender for each audio ID\n",
        "    unique_audio_ids = set(audio_ids_test)  # Get unique audio IDs\n",
        "    for audio_id in unique_audio_ids:\n",
        "        # Get the most common predicted gender for this audio\n",
        "        most_common_gender = audio_to_predicted_gender_count[audio_id].most_common(1)[0][0]\n",
        "        final_predicted_genders_per_audio.append( most_common_gender)\n",
        "\n",
        "    # Now final_predicted_genders_per_audio contains the predicted gender for each unique audio ID in the test set\n",
        "\n",
        "    return final_predicted_genders_per_audio"
      ],
      "metadata": {
        "id": "tYwmVSYq5vpZ"
      },
      "execution_count": 30,
      "outputs": []
    },
    {
      "cell_type": "code",
      "source": [
        "from sklearn.metrics import accuracy_score, precision_score, recall_score, confusion_matrix\n",
        "\n",
        "def get_acc_recall_prec_conf_matrix(y_pred, y_true):\n",
        "    \"\"\"\n",
        "    Compute accuracy, precision, recall, and confusion matrix based on predicted and true labels.\n",
        "\n",
        "    Parameters:\n",
        "    y_pred (array-like): Predicted class labels.\n",
        "    y_true (array-like): True class labels.\n",
        "\n",
        "    Returns:\n",
        "    None: Prints the computed metrics and confusion matrix.\n",
        "    \"\"\"\n",
        "\n",
        "    # Compute accuracy\n",
        "    accuracy = accuracy_score(y_true, y_pred)\n",
        "\n",
        "    # Compute precision\n",
        "    precision = precision_score(y_true, y_pred)\n",
        "\n",
        "    # Compute recall\n",
        "    recall = recall_score(y_true, y_pred)\n",
        "\n",
        "    # Compute confusion matrix\n",
        "    conf_matrix = confusion_matrix(y_true, y_pred)\n",
        "\n",
        "    # Print the computed metrics and confusion matrix\n",
        "    print(\"Accuracy:\", accuracy)\n",
        "    print(\"Precision:\", precision)\n",
        "    print(\"Recall:\", recall)\n",
        "    print(\"Confusion Matrix:\")\n",
        "    print(conf_matrix)"
      ],
      "metadata": {
        "id": "GcjWQNj43Psk"
      },
      "execution_count": 24,
      "outputs": []
    },
    {
      "cell_type": "markdown",
      "source": [
        "First classifier: GradientBooster"
      ],
      "metadata": {
        "id": "_hSXQtS6PU3z"
      }
    },
    {
      "cell_type": "code",
      "source": [
        "# Encoding categorical data\n",
        "from sklearn.preprocessing import LabelEncoder\n",
        "\n",
        "# Creating a LabelEncoder instance\n",
        "label_encoder = LabelEncoder()\n",
        "\n",
        "# Fitting the LabelEncoder on training and test labels to learn the mapping\n",
        "label_encoder.fit(y_train)\n",
        "\n",
        "# Encoding categorical labels for the test and training set\n",
        "y_train_gb = label_encoder.transform(y_train)\n",
        "y_test_gb = label_encoder.transform(y_test)"
      ],
      "metadata": {
        "id": "WzbRCXZjSSDd"
      },
      "execution_count": 25,
      "outputs": []
    },
    {
      "cell_type": "code",
      "source": [
        "# Import necessary library for Gradient Boosting Classifier\n",
        "from sklearn.ensemble import GradientBoostingClassifier\n",
        "\n",
        "# Train a Gradient Boosting model\n",
        "gbrt = GradientBoostingClassifier(random_state=0).fit(X_train, y_train_gb)\n",
        "\n",
        "# Display information about the trained Gradient Boosting model\n",
        "print(\"Gradient Boosting\")\n",
        "print(\"Accuracy on training set: {:.3f}\".format(gbrt.score(X_train, y_train_gb)))  # Print training set accuracy\n",
        "print(\"Accuracy on test set: {:.3f}\".format(gbrt.score(X_test, y_test_gb)))  # Print test set accuracy"
      ],
      "metadata": {
        "colab": {
          "base_uri": "https://localhost:8080/"
        },
        "id": "aIraGA-fgRin",
        "outputId": "82b74451-ba25-4d44-f9ae-b88b94d6c683"
      },
      "execution_count": 26,
      "outputs": [
        {
          "output_type": "stream",
          "name": "stdout",
          "text": [
            "Gradient Boosting\n",
            "Accuracy on training set: 0.756\n",
            "Accuracy on test set: 0.753\n"
          ]
        }
      ]
    },
    {
      "cell_type": "code",
      "source": [
        "# Map labels to numerical values\n",
        "label_mapping = {'F': 0, 'M': 1}\n",
        "\n",
        "audio_ids_test = [all_audios_ids[idx] for idx in indices_test]\n",
        "y_test_numeric = np.array([label_mapping[label] for label in y_test])  # Convert testing labels to numerical values\n",
        "\n",
        "print('Per audio evaluation')\n",
        "y_pred_gb = gbrt.predict(X_test)\n",
        "y_pred_new_gb=get_y(audio_ids_test,y_pred_gb)\n",
        "y_true_new_gb=get_y(audio_ids_test,y_test_numeric)\n",
        "get_acc_recall_prec_conf_matrix(y_pred_new_gb,y_true_new_gb)\n",
        "\n",
        "print('Per frame evaluation')\n",
        "get_acc_recall_prec_conf_matrix(y_pred_gb,y_test_numeric)\n"
      ],
      "metadata": {
        "colab": {
          "base_uri": "https://localhost:8080/"
        },
        "id": "UL0CEEMmNi0e",
        "outputId": "5303517d-b59c-4a0c-de75-918df3b9986b"
      },
      "execution_count": 31,
      "outputs": [
        {
          "output_type": "stream",
          "name": "stdout",
          "text": [
            "Per audio evaluation\n",
            "Accuracy: 0.9018450184501845\n",
            "Precision: 0.9091608929946112\n",
            "Recall: 0.8886380737396539\n",
            "Confusion Matrix:\n",
            "[[1263  118]\n",
            " [ 148 1181]]\n",
            "Per frame evaluation\n",
            "Accuracy: 0.752791853200177\n",
            "Precision: 0.7587232018482656\n",
            "Recall: 0.736891602045867\n",
            "Confusion Matrix:\n",
            "[[47149 14203]\n",
            " [15947 44663]]\n"
          ]
        }
      ]
    },
    {
      "cell_type": "markdown",
      "source": [
        "Second model: Neural Network extracted from GitHub adapted to run with PyTorch\n"
      ],
      "metadata": {
        "id": "KXVkGc7IZ_Qy"
      }
    },
    {
      "cell_type": "code",
      "source": [
        "# Import necessary library to convert labels to one-hot encoding\n",
        "from keras.utils import to_categorical\n",
        "\n",
        "# Convert training and testing features to numpy arrays\n",
        "X_train = np.array(X_train)  # Convert training features to numpy array\n",
        "X_test = np.array(X_test)  # Convert testing features to numpy array\n",
        "\n",
        "# Map labels to numerical values\n",
        "label_mapping = {'F': 0, 'M': 1}  # Define a mapping of labels to numerical values\n",
        "\n",
        "# Convert labels to numerical values using the mapping\n",
        "y_train_numeric = np.array([label_mapping[label] for label in y_train])  # Convert training labels to numerical values\n",
        "y_test_numeric = np.array([label_mapping[label] for label in y_test])  # Convert testing labels to numerical values\n",
        "\n",
        "# Convert numerical labels to one-hot encoding\n",
        "y_train_one_hot = to_categorical(y_train_numeric, num_classes=2)  # Convert training numerical labels to one-hot encoding\n",
        "y_test_one_hot = to_categorical(y_test_numeric, num_classes=2)  # Convert testing numerical labels to one-hot encoding"
      ],
      "metadata": {
        "id": "4UhTR1Lti7a3"
      },
      "execution_count": 32,
      "outputs": []
    },
    {
      "cell_type": "code",
      "source": [
        "import tensorflow as tf\n",
        "from keras.layers import  BatchNormalization\n",
        "from tensorflow.keras.layers import Dense, Dropout, Activation, Flatten\n",
        "from tensorflow.keras.optimizers import Adam\n",
        "from tensorflow.keras.models import Sequential\n",
        "from tensorflow.keras.utils import plot_model\n",
        "from tensorflow.keras.callbacks import EarlyStopping\n",
        "from tensorflow.keras import initializers\n",
        "from tensorboard.plugins.hparams import api as hp\n",
        "from keras.callbacks import LearningRateScheduler\n"
      ],
      "metadata": {
        "id": "jEGhxVtFqhPr"
      },
      "execution_count": 35,
      "outputs": []
    },
    {
      "cell_type": "code",
      "source": [
        "from keras import backend as K\n",
        "\n",
        "def recall_m(y_true, y_pred):\n",
        "    \"\"\"\n",
        "    Compute recall metric for a binary classification model.\n",
        "\n",
        "    Parameters:\n",
        "        y_true (tensor): True labels (ground truth).\n",
        "        y_pred (tensor): Predicted labels.\n",
        "\n",
        "    Returns:\n",
        "        float: Recall score.\n",
        "    \"\"\"\n",
        "    # Compute true positives, possible positives, and recall\n",
        "    true_positives = K.sum(K.round(K.clip(y_true * y_pred, 0, 1)))\n",
        "    possible_positives = K.sum(K.round(K.clip(y_true, 0, 1)))\n",
        "    recall = true_positives / (possible_positives + K.epsilon())\n",
        "    return recall\n",
        "\n",
        "\n",
        "def precision_m(y_true, y_pred):\n",
        "    \"\"\"\n",
        "    Compute precision metric for a binary classification model.\n",
        "\n",
        "    Parameters:\n",
        "        y_true (tensor): True labels (ground truth).\n",
        "        y_pred (tensor): Predicted labels.\n",
        "\n",
        "    Returns:\n",
        "        float: Precision score.\n",
        "    \"\"\"\n",
        "    # Compute true positives, predicted positives, and precision\n",
        "    true_positives = K.sum(K.round(K.clip(y_true * y_pred, 0, 1)))\n",
        "    predicted_positives = K.sum(K.round(K.clip(y_pred, 0, 1)))\n",
        "    precision = true_positives / (predicted_positives + K.epsilon())\n",
        "    return precision"
      ],
      "metadata": {
        "id": "yu7LgWh4xzfM"
      },
      "execution_count": 36,
      "outputs": []
    },
    {
      "cell_type": "code",
      "source": [
        "from keras.models import Sequential\n",
        "from keras.layers import Dense, BatchNormalization\n",
        "from keras.callbacks import EarlyStopping\n",
        "from keras import backend as K\n",
        "\n",
        "class NeuralNetwork:\n",
        "    \"\"\"\n",
        "    Adaptation of a Neural Network found on GitHub for gender speech recognition\n",
        "\n",
        "    Attributes:\n",
        "        model (Sequential): Keras Sequential model for the baseline.\n",
        "        early_stop (EarlyStopping): Early stopping to prevent overfitting.\n",
        "\n",
        "    Methods:\n",
        "        compile_model: Compiles the baseline model.\n",
        "    \"\"\"\n",
        "\n",
        "    def __init__(self):\n",
        "        \"\"\"\n",
        "        Initializes the baseline model.\n",
        "        \"\"\"\n",
        "        self.model = Sequential()\n",
        "        self.model.add(Dense(13, input_shape=(13,), activation='relu'))\n",
        "        self.model.add(BatchNormalization())  # Batch normalization after the first dense layer\n",
        "        self.model.add(Dense(128, activation='relu'))\n",
        "        self.model.add(BatchNormalization())  # Batch normalization after the second dense layer\n",
        "        self.model.add(Dense(64, activation='relu'))\n",
        "        self.model.add(BatchNormalization())\n",
        "        self.model.add(Dense(2, activation='softmax'))\n",
        "\n",
        "        self.early_stop = EarlyStopping(monitor='val_loss', min_delta=0, patience=200, verbose=1, mode='auto')\n",
        "\n",
        "    def compile_model(self):\n",
        "        \"\"\"\n",
        "        Compiles the baseline model.\n",
        "\n",
        "        Returns:\n",
        "            None\n",
        "        \"\"\"\n",
        "        self.model.compile(loss='categorical_crossentropy', metrics=['accuracy', recall_m, precision_m], optimizer='rmsprop')\n"
      ],
      "metadata": {
        "id": "kZsoJOY7TjLB"
      },
      "execution_count": 37,
      "outputs": []
    },
    {
      "cell_type": "code",
      "source": [
        "from keras.models import load_model\n",
        "import keras\n",
        "\n",
        "# Check if the model file exists\n",
        "model_file_path = '/content/drive/MyDrive/neuralnetwork_model.h5'\n",
        "model_exists = os.path.exists(model_file_path)\n",
        "\n",
        "if not model_exists:\n",
        "    # The model file doesn't exist, so train the model\n",
        "    print(\"Model does not exist. Training a new model.\")\n",
        "    neural_network = NeuralNetwork()\n",
        "    neural_network.compile_model()\n",
        "\n",
        "    # Train the model\n",
        "    history_neural_network = neural_network.model.fit(X_train, y_train_one_hot, validation_split=0.3, batch_size=256, epochs=200, callbacks=[neural_network.early_stop])\n",
        "\n",
        "    # Save the model after training\n",
        "    neural_network.model.save(model_file_path)\n",
        "else:\n",
        "  with tf.keras.utils.custom_object_scope({'precision_m': precision_m, 'recall_m': recall_m}):\n",
        "    neural_network = load_model(model_file_path)\n",
        "    print(\"Model successfully loaded.\")\n",
        "\n"
      ],
      "metadata": {
        "colab": {
          "base_uri": "https://localhost:8080/"
        },
        "id": "5xo_vCZqqyWA",
        "outputId": "2bdac9d9-b3a4-4a63-ab06-b9daf20454c5"
      },
      "execution_count": 50,
      "outputs": [
        {
          "output_type": "stream",
          "name": "stdout",
          "text": [
            "Model successfully loaded.\n"
          ]
        }
      ]
    },
    {
      "cell_type": "code",
      "source": [
        "# Evaluate the model on the test data (X_test) and corresponding true labels (y_test_one_hot)\n",
        "# Returns loss, accuracy, precision, and recall\n",
        "loss, accuracy, precision, recall = neural_network.evaluate(X_test, y_test_one_hot, verbose=0)\n",
        "\n",
        "# Print the accuracy results for the model's performance on the test data\n",
        "print('Accuracy of Test data that the model has not seen before:', accuracy)"
      ],
      "metadata": {
        "colab": {
          "base_uri": "https://localhost:8080/"
        },
        "id": "TEXPh7rDtw5c",
        "outputId": "f0f0748b-c0e7-4b7e-cf9e-8b30725f6047"
      },
      "execution_count": 39,
      "outputs": [
        {
          "output_type": "stream",
          "name": "stdout",
          "text": [
            "Accuracy of Test data that the model has not seen before: 0.8960413932800293\n"
          ]
        }
      ]
    },
    {
      "cell_type": "code",
      "source": [
        "# Predict scores for each class for the test data using the neural network\n",
        "scores = neural_network.predict(X_test)\n",
        "\n",
        "# Convert the scores to predicted class labels by taking the class with the highest score\n",
        "y_pred_nn = np.argmax(scores, axis=1)\n",
        "\n",
        "# Assign the true class labels (in numeric format) from the test data to y_true_nn\n",
        "y_true_nn = y_test_numeric"
      ],
      "metadata": {
        "colab": {
          "base_uri": "https://localhost:8080/"
        },
        "id": "8bgVIY-A5Si0",
        "outputId": "097ee1b3-529b-4dca-e256-42fb74dc6f00"
      },
      "execution_count": 40,
      "outputs": [
        {
          "output_type": "stream",
          "name": "stdout",
          "text": [
            "3812/3812 [==============================] - 9s 2ms/step\n"
          ]
        }
      ]
    },
    {
      "cell_type": "code",
      "source": [
        "audio_ids_test = [all_audios_ids[idx] for idx in indices_test]\n",
        "\n",
        "y_true_new=get_y(audio_ids_test,y_true_nn)\n",
        "y_pred_new=get_y(audio_ids_test,y_pred_nn)"
      ],
      "metadata": {
        "id": "SKuYSZFZ59R7"
      },
      "execution_count": 41,
      "outputs": []
    },
    {
      "cell_type": "code",
      "source": [
        "print('Per audio evaluation')\n",
        "get_acc_recall_prec_conf_matrix(y_pred_new,y_true_new)"
      ],
      "metadata": {
        "colab": {
          "base_uri": "https://localhost:8080/"
        },
        "id": "ChNxAs-H5yUi",
        "outputId": "b4adf1fd-bf15-4199-fea2-6296957156be"
      },
      "execution_count": 44,
      "outputs": [
        {
          "output_type": "stream",
          "name": "stdout",
          "text": [
            "Per audio evaluation\n",
            "Accuracy: 0.9981549815498155\n",
            "Precision: 0.9977443609022556\n",
            "Recall: 0.9984951091045899\n",
            "Confusion Matrix:\n",
            "[[1378    3]\n",
            " [   2 1327]]\n"
          ]
        }
      ]
    },
    {
      "cell_type": "code",
      "source": [
        "print('Per frame evaluation')\n",
        "get_acc_recall_prec_conf_matrix(y_pred_nn,y_true_nn)"
      ],
      "metadata": {
        "colab": {
          "base_uri": "https://localhost:8080/"
        },
        "id": "ewYqmyuPWA43",
        "outputId": "0ee0ef29-0deb-4d35-d560-94a1d5386c43"
      },
      "execution_count": 45,
      "outputs": [
        {
          "output_type": "stream",
          "name": "stdout",
          "text": [
            "Per frame evaluation\n",
            "Accuracy: 0.8960413899411293\n",
            "Precision: 0.8842903644789378\n",
            "Recall: 0.9098663586866854\n",
            "Confusion Matrix:\n",
            "[[54136  7216]\n",
            " [ 5463 55147]]\n"
          ]
        }
      ]
    },
    {
      "cell_type": "markdown",
      "source": [
        "Third model: CNN based on the describition of the paper DGR: Gender Recognition of Human Speech Using One-Dimensional Conventional Neural Network by Rami S. Alkhawaldeh.\n"
      ],
      "metadata": {
        "id": "zQzEM9fx0cpE"
      }
    },
    {
      "cell_type": "code",
      "source": [
        "# Reshape training data for CNN\n",
        "X_train_cnn = np.reshape(X_train, (X_train.shape[0], X_train.shape[1], 1))\n",
        "# Reshape testing data for CNN\n",
        "X_test_cnn = np.reshape(X_test, (X_test.shape[0], X_test.shape[1], 1))"
      ],
      "metadata": {
        "id": "F3EDpxaYaGHu"
      },
      "execution_count": 46,
      "outputs": []
    },
    {
      "cell_type": "code",
      "source": [
        "import tensorflow as tf\n",
        "from tensorflow.keras.models import Sequential\n",
        "from tensorflow.keras.layers import Conv1D, MaxPooling1D, Flatten, Dense, Dropout\n",
        "from tensorflow.keras.optimizers import Adam\n",
        "\n",
        "class GenderClassificationCNN:\n",
        "    \"\"\"\n",
        "    Convolutional Neural Network (CNN) model for gender classification.\n",
        "\n",
        "    Attributes:\n",
        "        model (Sequential): Keras Sequential model for CNN-based gender classification.\n",
        "\n",
        "    Methods:\n",
        "        compile_model: Compiles the CNN model.\n",
        "    \"\"\"\n",
        "\n",
        "    def __init__(self):\n",
        "        \"\"\"\n",
        "        Initializes the CNN model for gender classification.\n",
        "        \"\"\"\n",
        "        self.model = Sequential()\n",
        "        self.model.add(Conv1D(filters=32, kernel_size=3, activation='relu', input_shape=(13, 1)))\n",
        "        self.model.add(Conv1D(filters=48, kernel_size=3, activation='relu'))\n",
        "        self.model.add(Conv1D(filters=120, kernel_size=3, activation='relu'))\n",
        "        self.model.add(MaxPooling1D(pool_size=2))\n",
        "        self.model.add(Flatten())\n",
        "        self.model.add(Dense(128, activation='relu'))\n",
        "        self.model.add(Dense(64, activation='relu'))\n",
        "        self.model.add(Dense(2, activation='softmax'))\n",
        "\n",
        "    def compile_model(self):\n",
        "        \"\"\"\n",
        "        Compiles the CNN model.\n",
        "\n",
        "        Returns:\n",
        "            None\n",
        "        \"\"\"\n",
        "        optimizer = Adam()  # Learning rate: 0.001\n",
        "        self.model.compile(optimizer=Adam(), loss='categorical_crossentropy', metrics=['accuracy',recall_m,precision_m])\n"
      ],
      "metadata": {
        "id": "mQ_RPSIWXloA"
      },
      "execution_count": 47,
      "outputs": []
    },
    {
      "cell_type": "code",
      "source": [
        "# Check if the model file exists\n",
        "model_file_path = '/content/drive/MyDrive/cnn_model.h5'\n",
        "model_exists = os.path.exists(model_file_path)\n",
        "\n",
        "if model_exists:\n",
        "    # Load the existing model\n",
        "    with tf.keras.utils.custom_object_scope({'precision_m': precision_m, 'recall_m': recall_m}):\n",
        "      gender_cnn_model = load_model(model_file_path)\n",
        "    print(\"Model successfully loaded.\")\n",
        "else:\n",
        "    print(\"Model does not exist. Training a new model.\")\n",
        "    # Train a new model\n",
        "    gender_cnn_model = GenderClassificationCNN()\n",
        "    gender_cnn_model.compile_model()\n",
        "    history = gender_cnn_model.model.fit(X_train_cnn, y_train_one_hot, validation_split=0.3,epochs=200, batch_size=32)\n",
        "\n",
        "    # Save the model after training\n",
        "    gender_cnn_model.model.save(model_file_path)\n"
      ],
      "metadata": {
        "colab": {
          "base_uri": "https://localhost:8080/"
        },
        "id": "ZGaQhmTLYi0e",
        "outputId": "b159a1e5-9923-4cc9-c2d6-5f00599c1aff"
      },
      "execution_count": 49,
      "outputs": [
        {
          "output_type": "stream",
          "name": "stdout",
          "text": [
            "Model successfully loaded.\n"
          ]
        }
      ]
    },
    {
      "cell_type": "code",
      "source": [
        "# Evaluate the model on the test data (X_test) and corresponding true labels (y_test_one_hot)\n",
        "# Returns loss, accuracy, precision, and recall\n",
        "loss, accuracy, precision, recall = gender_cnn_model.evaluate(X_test_cnn, y_test_one_hot, verbose=0)\n",
        "\n",
        "# Print the accuracy results for the model's performance on the test data\n",
        "print('Accuracy of Test data that the model has not seen before:', accuracy)"
      ],
      "metadata": {
        "id": "0oE3sMa64ujI",
        "colab": {
          "base_uri": "https://localhost:8080/"
        },
        "outputId": "644ed72a-6d1c-49e2-d3d2-30ee7b7be229"
      },
      "execution_count": 51,
      "outputs": [
        {
          "output_type": "stream",
          "name": "stdout",
          "text": [
            "Accuracy of Test data that the model has not seen before: 0.9077909588813782\n"
          ]
        }
      ]
    },
    {
      "cell_type": "code",
      "source": [
        "# Predict scores for each class for the test data using the neural network\n",
        "scores = gender_cnn_model.predict(X_test_cnn)\n",
        "\n",
        "# Convert the scores to predicted class labels by taking the class with the highest score\n",
        "y_pred_cnn = np.argmax(scores, axis=1)\n",
        "\n",
        "# Assign the true class labels (in numeric format) from the test data to y_true_nn\n",
        "y_true_cnn = y_test_numeric"
      ],
      "metadata": {
        "colab": {
          "base_uri": "https://localhost:8080/"
        },
        "id": "okh94GaP6d51",
        "outputId": "95cbfdd5-8c66-4925-de67-48ebf57e4b1c"
      },
      "execution_count": 52,
      "outputs": [
        {
          "output_type": "stream",
          "name": "stdout",
          "text": [
            "3812/3812 [==============================] - 7s 2ms/step\n"
          ]
        }
      ]
    },
    {
      "cell_type": "code",
      "source": [
        "audio_ids_test = [all_audios_ids[idx] for idx in indices_test]\n",
        "\n",
        "y_true_new_cnn=get_y(audio_ids_test,y_true_cnn)\n",
        "y_pred_new_cnn=get_y(audio_ids_test,y_pred_cnn)"
      ],
      "metadata": {
        "id": "iy0gpduG9UtH"
      },
      "execution_count": 54,
      "outputs": []
    },
    {
      "cell_type": "code",
      "source": [
        "print('Per audio evaluation')\n",
        "get_acc_recall_prec_conf_matrix(y_pred_new_cnn,y_true_new_cnn)"
      ],
      "metadata": {
        "colab": {
          "base_uri": "https://localhost:8080/"
        },
        "id": "kseiEpdo6nVi",
        "outputId": "5bd16c6b-e7f5-48f3-d58f-44eec85b217b"
      },
      "execution_count": 56,
      "outputs": [
        {
          "output_type": "stream",
          "name": "stdout",
          "text": [
            "Per audio evaluation\n",
            "Accuracy: 0.9988929889298893\n",
            "Precision: 0.9992469879518072\n",
            "Recall: 0.9984951091045899\n",
            "Confusion Matrix:\n",
            "[[1380    1]\n",
            " [   2 1327]]\n"
          ]
        }
      ]
    },
    {
      "cell_type": "code",
      "source": [
        "print('Per frame evaluation')\n",
        "get_acc_recall_prec_conf_matrix(y_pred_cnn,y_true_cnn)"
      ],
      "metadata": {
        "colab": {
          "base_uri": "https://localhost:8080/"
        },
        "id": "FF5IAJ_rcKIp",
        "outputId": "e447cb6e-71f7-4e42-bee0-1a20974794e9"
      },
      "execution_count": 57,
      "outputs": [
        {
          "output_type": "stream",
          "name": "stdout",
          "text": [
            "Per frame evaluation\n",
            "Accuracy: 0.9077909512799068\n",
            "Precision: 0.9054604593093931\n",
            "Recall: 0.9094043887147335\n",
            "Confusion Matrix:\n",
            "[[55597  5755]\n",
            " [ 5491 55119]]\n"
          ]
        }
      ]
    },
    {
      "cell_type": "markdown",
      "source": [
        "Fourth model: Hugging face model\n",
        "\n",
        "\n",
        "\n"
      ],
      "metadata": {
        "id": "oNAB-7itZLAl"
      }
    },
    {
      "cell_type": "code",
      "source": [
        "# requirement packages\n",
        "!pip install git+https://github.com/huggingface/datasets.git\n",
        "!pip install git+https://github.com/huggingface/transformers.git\n",
        "!pip install torchaudio\n",
        "!pip install librosa"
      ],
      "metadata": {
        "id": "AcnE9gjU4uzQ",
        "colab": {
          "base_uri": "https://localhost:8080/"
        },
        "outputId": "9ea1edf5-b56e-4a2e-8651-7003da384aa0"
      },
      "execution_count": 58,
      "outputs": [
        {
          "output_type": "stream",
          "name": "stdout",
          "text": [
            "Collecting git+https://github.com/huggingface/datasets.git\n",
            "  Cloning https://github.com/huggingface/datasets.git to /tmp/pip-req-build-_udpb0xk\n",
            "  Running command git clone --filter=blob:none --quiet https://github.com/huggingface/datasets.git /tmp/pip-req-build-_udpb0xk\n",
            "  Resolved https://github.com/huggingface/datasets.git to commit faada1742e1f25fce9cc5691ec11d3f91d4aa120\n",
            "  Installing build dependencies ... \u001b[?25l\u001b[?25hdone\n",
            "  Getting requirements to build wheel ... \u001b[?25l\u001b[?25hdone\n",
            "  Preparing metadata (pyproject.toml) ... \u001b[?25l\u001b[?25hdone\n",
            "Requirement already satisfied: numpy>=1.17 in /usr/local/lib/python3.10/dist-packages (from datasets==2.14.6.dev0) (1.23.5)\n",
            "Requirement already satisfied: pyarrow>=8.0.0 in /usr/local/lib/python3.10/dist-packages (from datasets==2.14.6.dev0) (9.0.0)\n",
            "Collecting dill<0.3.8,>=0.3.0 (from datasets==2.14.6.dev0)\n",
            "  Downloading dill-0.3.7-py3-none-any.whl (115 kB)\n",
            "\u001b[2K     \u001b[90m━━━━━━━━━━━━━━━━━━━━━━━━━━━━━━━━━━━━━━━\u001b[0m \u001b[32m115.3/115.3 kB\u001b[0m \u001b[31m3.8 MB/s\u001b[0m eta \u001b[36m0:00:00\u001b[0m\n",
            "\u001b[?25hRequirement already satisfied: pandas in /usr/local/lib/python3.10/dist-packages (from datasets==2.14.6.dev0) (1.5.3)\n",
            "Requirement already satisfied: requests>=2.19.0 in /usr/local/lib/python3.10/dist-packages (from datasets==2.14.6.dev0) (2.31.0)\n",
            "Requirement already satisfied: tqdm>=4.62.1 in /usr/local/lib/python3.10/dist-packages (from datasets==2.14.6.dev0) (4.66.1)\n",
            "Collecting xxhash (from datasets==2.14.6.dev0)\n",
            "  Downloading xxhash-3.4.1-cp310-cp310-manylinux_2_17_x86_64.manylinux2014_x86_64.whl (194 kB)\n",
            "\u001b[2K     \u001b[90m━━━━━━━━━━━━━━━━━━━━━━━━━━━━━━━━━━━━━━\u001b[0m \u001b[32m194.1/194.1 kB\u001b[0m \u001b[31m11.9 MB/s\u001b[0m eta \u001b[36m0:00:00\u001b[0m\n",
            "\u001b[?25hCollecting multiprocess (from datasets==2.14.6.dev0)\n",
            "  Downloading multiprocess-0.70.15-py310-none-any.whl (134 kB)\n",
            "\u001b[2K     \u001b[90m━━━━━━━━━━━━━━━━━━━━━━━━━━━━━━━━━━━━━━\u001b[0m \u001b[32m134.8/134.8 kB\u001b[0m \u001b[31m13.1 MB/s\u001b[0m eta \u001b[36m0:00:00\u001b[0m\n",
            "\u001b[?25hRequirement already satisfied: fsspec[http]>=2023.1.0 in /usr/local/lib/python3.10/dist-packages (from datasets==2.14.6.dev0) (2023.6.0)\n",
            "Requirement already satisfied: aiohttp in /usr/local/lib/python3.10/dist-packages (from datasets==2.14.6.dev0) (3.8.5)\n",
            "Collecting huggingface-hub<1.0.0,>=0.14.0 (from datasets==2.14.6.dev0)\n",
            "  Downloading huggingface_hub-0.17.3-py3-none-any.whl (295 kB)\n",
            "\u001b[2K     \u001b[90m━━━━━━━━━━━━━━━━━━━━━━━━━━━━━━━━━━━━━━\u001b[0m \u001b[32m295.0/295.0 kB\u001b[0m \u001b[31m27.0 MB/s\u001b[0m eta \u001b[36m0:00:00\u001b[0m\n",
            "\u001b[?25hRequirement already satisfied: packaging in /usr/local/lib/python3.10/dist-packages (from datasets==2.14.6.dev0) (23.2)\n",
            "Requirement already satisfied: pyyaml>=5.1 in /usr/local/lib/python3.10/dist-packages (from datasets==2.14.6.dev0) (6.0.1)\n",
            "Requirement already satisfied: attrs>=17.3.0 in /usr/local/lib/python3.10/dist-packages (from aiohttp->datasets==2.14.6.dev0) (23.1.0)\n",
            "Requirement already satisfied: charset-normalizer<4.0,>=2.0 in /usr/local/lib/python3.10/dist-packages (from aiohttp->datasets==2.14.6.dev0) (3.3.0)\n",
            "Requirement already satisfied: multidict<7.0,>=4.5 in /usr/local/lib/python3.10/dist-packages (from aiohttp->datasets==2.14.6.dev0) (6.0.4)\n",
            "Requirement already satisfied: async-timeout<5.0,>=4.0.0a3 in /usr/local/lib/python3.10/dist-packages (from aiohttp->datasets==2.14.6.dev0) (4.0.3)\n",
            "Requirement already satisfied: yarl<2.0,>=1.0 in /usr/local/lib/python3.10/dist-packages (from aiohttp->datasets==2.14.6.dev0) (1.9.2)\n",
            "Requirement already satisfied: frozenlist>=1.1.1 in /usr/local/lib/python3.10/dist-packages (from aiohttp->datasets==2.14.6.dev0) (1.4.0)\n",
            "Requirement already satisfied: aiosignal>=1.1.2 in /usr/local/lib/python3.10/dist-packages (from aiohttp->datasets==2.14.6.dev0) (1.3.1)\n",
            "Requirement already satisfied: filelock in /usr/local/lib/python3.10/dist-packages (from huggingface-hub<1.0.0,>=0.14.0->datasets==2.14.6.dev0) (3.12.4)\n",
            "Requirement already satisfied: typing-extensions>=3.7.4.3 in /usr/local/lib/python3.10/dist-packages (from huggingface-hub<1.0.0,>=0.14.0->datasets==2.14.6.dev0) (4.5.0)\n",
            "Requirement already satisfied: idna<4,>=2.5 in /usr/local/lib/python3.10/dist-packages (from requests>=2.19.0->datasets==2.14.6.dev0) (3.4)\n",
            "Requirement already satisfied: urllib3<3,>=1.21.1 in /usr/local/lib/python3.10/dist-packages (from requests>=2.19.0->datasets==2.14.6.dev0) (2.0.6)\n",
            "Requirement already satisfied: certifi>=2017.4.17 in /usr/local/lib/python3.10/dist-packages (from requests>=2.19.0->datasets==2.14.6.dev0) (2023.7.22)\n",
            "Requirement already satisfied: python-dateutil>=2.8.1 in /usr/local/lib/python3.10/dist-packages (from pandas->datasets==2.14.6.dev0) (2.8.2)\n",
            "Requirement already satisfied: pytz>=2020.1 in /usr/local/lib/python3.10/dist-packages (from pandas->datasets==2.14.6.dev0) (2023.3.post1)\n",
            "Requirement already satisfied: six>=1.5 in /usr/local/lib/python3.10/dist-packages (from python-dateutil>=2.8.1->pandas->datasets==2.14.6.dev0) (1.16.0)\n",
            "Building wheels for collected packages: datasets\n",
            "  Building wheel for datasets (pyproject.toml) ... \u001b[?25l\u001b[?25hdone\n",
            "  Created wheel for datasets: filename=datasets-2.14.6.dev0-py3-none-any.whl size=493750 sha256=fe59a4341b84e598bc4eeabc2fe9cac47ed0ab0e90be49516ca72b344b6b2814\n",
            "  Stored in directory: /tmp/pip-ephem-wheel-cache-tko9jvkc/wheels/57/f4/c4/53c677af89fec0ef3226c1e75a38367b37c2fa626f0544d3e4\n",
            "Successfully built datasets\n",
            "Installing collected packages: xxhash, dill, multiprocess, huggingface-hub, datasets\n",
            "Successfully installed datasets-2.14.6.dev0 dill-0.3.7 huggingface-hub-0.17.3 multiprocess-0.70.15 xxhash-3.4.1\n",
            "Collecting git+https://github.com/huggingface/transformers.git\n",
            "  Cloning https://github.com/huggingface/transformers.git to /tmp/pip-req-build-p38kcqfj\n",
            "  Running command git clone --filter=blob:none --quiet https://github.com/huggingface/transformers.git /tmp/pip-req-build-p38kcqfj\n",
            "  Resolved https://github.com/huggingface/transformers.git to commit 64845307b362f4dfff1a783d7bce0f3407e92c34\n",
            "  Installing build dependencies ... \u001b[?25l\u001b[?25hdone\n",
            "  Getting requirements to build wheel ... \u001b[?25l\u001b[?25hdone\n",
            "  Preparing metadata (pyproject.toml) ... \u001b[?25l\u001b[?25hdone\n",
            "Requirement already satisfied: filelock in /usr/local/lib/python3.10/dist-packages (from transformers==4.35.0.dev0) (3.12.4)\n",
            "Requirement already satisfied: huggingface-hub<1.0,>=0.16.4 in /usr/local/lib/python3.10/dist-packages (from transformers==4.35.0.dev0) (0.17.3)\n",
            "Requirement already satisfied: numpy>=1.17 in /usr/local/lib/python3.10/dist-packages (from transformers==4.35.0.dev0) (1.23.5)\n",
            "Requirement already satisfied: packaging>=20.0 in /usr/local/lib/python3.10/dist-packages (from transformers==4.35.0.dev0) (23.2)\n",
            "Requirement already satisfied: pyyaml>=5.1 in /usr/local/lib/python3.10/dist-packages (from transformers==4.35.0.dev0) (6.0.1)\n",
            "Requirement already satisfied: regex!=2019.12.17 in /usr/local/lib/python3.10/dist-packages (from transformers==4.35.0.dev0) (2023.6.3)\n",
            "Requirement already satisfied: requests in /usr/local/lib/python3.10/dist-packages (from transformers==4.35.0.dev0) (2.31.0)\n",
            "Collecting tokenizers<0.15,>=0.14 (from transformers==4.35.0.dev0)\n",
            "  Downloading tokenizers-0.14.0-cp310-cp310-manylinux_2_17_x86_64.manylinux2014_x86_64.whl (3.8 MB)\n",
            "\u001b[2K     \u001b[90m━━━━━━━━━━━━━━━━━━━━━━━━━━━━━━━━━━━━━━━━\u001b[0m \u001b[32m3.8/3.8 MB\u001b[0m \u001b[31m36.4 MB/s\u001b[0m eta \u001b[36m0:00:00\u001b[0m\n",
            "\u001b[?25hCollecting safetensors>=0.3.1 (from transformers==4.35.0.dev0)\n",
            "  Downloading safetensors-0.3.3-cp310-cp310-manylinux_2_17_x86_64.manylinux2014_x86_64.whl (1.3 MB)\n",
            "\u001b[2K     \u001b[90m━━━━━━━━━━━━━━━━━━━━━━━━━━━━━━━━━━━━━━━━\u001b[0m \u001b[32m1.3/1.3 MB\u001b[0m \u001b[31m53.7 MB/s\u001b[0m eta \u001b[36m0:00:00\u001b[0m\n",
            "\u001b[?25hRequirement already satisfied: tqdm>=4.27 in /usr/local/lib/python3.10/dist-packages (from transformers==4.35.0.dev0) (4.66.1)\n",
            "Requirement already satisfied: fsspec in /usr/local/lib/python3.10/dist-packages (from huggingface-hub<1.0,>=0.16.4->transformers==4.35.0.dev0) (2023.6.0)\n",
            "Requirement already satisfied: typing-extensions>=3.7.4.3 in /usr/local/lib/python3.10/dist-packages (from huggingface-hub<1.0,>=0.16.4->transformers==4.35.0.dev0) (4.5.0)\n",
            "Collecting huggingface-hub<1.0,>=0.16.4 (from transformers==4.35.0.dev0)\n",
            "  Downloading huggingface_hub-0.16.4-py3-none-any.whl (268 kB)\n",
            "\u001b[2K     \u001b[90m━━━━━━━━━━━━━━━━━━━━━━━━━━━━━━━━━━━━━━\u001b[0m \u001b[32m268.8/268.8 kB\u001b[0m \u001b[31m28.9 MB/s\u001b[0m eta \u001b[36m0:00:00\u001b[0m\n",
            "\u001b[?25hRequirement already satisfied: charset-normalizer<4,>=2 in /usr/local/lib/python3.10/dist-packages (from requests->transformers==4.35.0.dev0) (3.3.0)\n",
            "Requirement already satisfied: idna<4,>=2.5 in /usr/local/lib/python3.10/dist-packages (from requests->transformers==4.35.0.dev0) (3.4)\n",
            "Requirement already satisfied: urllib3<3,>=1.21.1 in /usr/local/lib/python3.10/dist-packages (from requests->transformers==4.35.0.dev0) (2.0.6)\n",
            "Requirement already satisfied: certifi>=2017.4.17 in /usr/local/lib/python3.10/dist-packages (from requests->transformers==4.35.0.dev0) (2023.7.22)\n",
            "Building wheels for collected packages: transformers\n",
            "  Building wheel for transformers (pyproject.toml) ... \u001b[?25l\u001b[?25hdone\n",
            "  Created wheel for transformers: filename=transformers-4.35.0.dev0-py3-none-any.whl size=7748496 sha256=0a08667f483f54606e3736b6d0689521d6b32f9c3766d5d94541461733b4c080\n",
            "  Stored in directory: /tmp/pip-ephem-wheel-cache-i3tpc9vb/wheels/e7/9c/5b/e1a9c8007c343041e61cc484433d512ea9274272e3fcbe7c16\n",
            "Successfully built transformers\n",
            "Installing collected packages: safetensors, huggingface-hub, tokenizers, transformers\n",
            "  Attempting uninstall: huggingface-hub\n",
            "    Found existing installation: huggingface-hub 0.17.3\n",
            "    Uninstalling huggingface-hub-0.17.3:\n",
            "      Successfully uninstalled huggingface-hub-0.17.3\n",
            "Successfully installed huggingface-hub-0.16.4 safetensors-0.3.3 tokenizers-0.14.0 transformers-4.35.0.dev0\n",
            "Requirement already satisfied: torchaudio in /usr/local/lib/python3.10/dist-packages (2.0.2+cu118)\n",
            "Requirement already satisfied: torch==2.0.1 in /usr/local/lib/python3.10/dist-packages (from torchaudio) (2.0.1+cu118)\n",
            "Requirement already satisfied: filelock in /usr/local/lib/python3.10/dist-packages (from torch==2.0.1->torchaudio) (3.12.4)\n",
            "Requirement already satisfied: typing-extensions in /usr/local/lib/python3.10/dist-packages (from torch==2.0.1->torchaudio) (4.5.0)\n",
            "Requirement already satisfied: sympy in /usr/local/lib/python3.10/dist-packages (from torch==2.0.1->torchaudio) (1.12)\n",
            "Requirement already satisfied: networkx in /usr/local/lib/python3.10/dist-packages (from torch==2.0.1->torchaudio) (3.1)\n",
            "Requirement already satisfied: jinja2 in /usr/local/lib/python3.10/dist-packages (from torch==2.0.1->torchaudio) (3.1.2)\n",
            "Requirement already satisfied: triton==2.0.0 in /usr/local/lib/python3.10/dist-packages (from torch==2.0.1->torchaudio) (2.0.0)\n",
            "Requirement already satisfied: cmake in /usr/local/lib/python3.10/dist-packages (from triton==2.0.0->torch==2.0.1->torchaudio) (3.27.6)\n",
            "Requirement already satisfied: lit in /usr/local/lib/python3.10/dist-packages (from triton==2.0.0->torch==2.0.1->torchaudio) (17.0.2)\n",
            "Requirement already satisfied: MarkupSafe>=2.0 in /usr/local/lib/python3.10/dist-packages (from jinja2->torch==2.0.1->torchaudio) (2.1.3)\n",
            "Requirement already satisfied: mpmath>=0.19 in /usr/local/lib/python3.10/dist-packages (from sympy->torch==2.0.1->torchaudio) (1.3.0)\n",
            "Requirement already satisfied: librosa in /usr/local/lib/python3.10/dist-packages (0.10.1)\n",
            "Requirement already satisfied: audioread>=2.1.9 in /usr/local/lib/python3.10/dist-packages (from librosa) (3.0.1)\n",
            "Requirement already satisfied: numpy!=1.22.0,!=1.22.1,!=1.22.2,>=1.20.3 in /usr/local/lib/python3.10/dist-packages (from librosa) (1.23.5)\n",
            "Requirement already satisfied: scipy>=1.2.0 in /usr/local/lib/python3.10/dist-packages (from librosa) (1.11.3)\n",
            "Requirement already satisfied: scikit-learn>=0.20.0 in /usr/local/lib/python3.10/dist-packages (from librosa) (1.2.2)\n",
            "Requirement already satisfied: joblib>=0.14 in /usr/local/lib/python3.10/dist-packages (from librosa) (1.3.2)\n",
            "Requirement already satisfied: decorator>=4.3.0 in /usr/local/lib/python3.10/dist-packages (from librosa) (4.4.2)\n",
            "Requirement already satisfied: numba>=0.51.0 in /usr/local/lib/python3.10/dist-packages (from librosa) (0.56.4)\n",
            "Requirement already satisfied: soundfile>=0.12.1 in /usr/local/lib/python3.10/dist-packages (from librosa) (0.12.1)\n",
            "Requirement already satisfied: pooch>=1.0 in /usr/local/lib/python3.10/dist-packages (from librosa) (1.7.0)\n",
            "Requirement already satisfied: soxr>=0.3.2 in /usr/local/lib/python3.10/dist-packages (from librosa) (0.3.6)\n",
            "Requirement already satisfied: typing-extensions>=4.1.1 in /usr/local/lib/python3.10/dist-packages (from librosa) (4.5.0)\n",
            "Requirement already satisfied: lazy-loader>=0.1 in /usr/local/lib/python3.10/dist-packages (from librosa) (0.3)\n",
            "Requirement already satisfied: msgpack>=1.0 in /usr/local/lib/python3.10/dist-packages (from librosa) (1.0.7)\n",
            "Requirement already satisfied: llvmlite<0.40,>=0.39.0dev0 in /usr/local/lib/python3.10/dist-packages (from numba>=0.51.0->librosa) (0.39.1)\n",
            "Requirement already satisfied: setuptools in /usr/local/lib/python3.10/dist-packages (from numba>=0.51.0->librosa) (67.7.2)\n",
            "Requirement already satisfied: platformdirs>=2.5.0 in /usr/local/lib/python3.10/dist-packages (from pooch>=1.0->librosa) (3.11.0)\n",
            "Requirement already satisfied: packaging>=20.0 in /usr/local/lib/python3.10/dist-packages (from pooch>=1.0->librosa) (23.2)\n",
            "Requirement already satisfied: requests>=2.19.0 in /usr/local/lib/python3.10/dist-packages (from pooch>=1.0->librosa) (2.31.0)\n",
            "Requirement already satisfied: threadpoolctl>=2.0.0 in /usr/local/lib/python3.10/dist-packages (from scikit-learn>=0.20.0->librosa) (3.2.0)\n",
            "Requirement already satisfied: cffi>=1.0 in /usr/local/lib/python3.10/dist-packages (from soundfile>=0.12.1->librosa) (1.16.0)\n",
            "Requirement already satisfied: pycparser in /usr/local/lib/python3.10/dist-packages (from cffi>=1.0->soundfile>=0.12.1->librosa) (2.21)\n",
            "Requirement already satisfied: charset-normalizer<4,>=2 in /usr/local/lib/python3.10/dist-packages (from requests>=2.19.0->pooch>=1.0->librosa) (3.3.0)\n",
            "Requirement already satisfied: idna<4,>=2.5 in /usr/local/lib/python3.10/dist-packages (from requests>=2.19.0->pooch>=1.0->librosa) (3.4)\n",
            "Requirement already satisfied: urllib3<3,>=1.21.1 in /usr/local/lib/python3.10/dist-packages (from requests>=2.19.0->pooch>=1.0->librosa) (2.0.6)\n",
            "Requirement already satisfied: certifi>=2017.4.17 in /usr/local/lib/python3.10/dist-packages (from requests>=2.19.0->pooch>=1.0->librosa) (2023.7.22)\n"
          ]
        }
      ]
    },
    {
      "cell_type": "code",
      "source": [
        "!git clone https://github.com/m3hrdadfi/soxan.git"
      ],
      "metadata": {
        "colab": {
          "base_uri": "https://localhost:8080/"
        },
        "id": "R5wcEWFmeBj0",
        "outputId": "8edea96f-8fa5-4b8e-d191-b15d3ad313b3"
      },
      "execution_count": 59,
      "outputs": [
        {
          "output_type": "stream",
          "name": "stdout",
          "text": [
            "Cloning into 'soxan'...\n",
            "remote: Enumerating objects: 194, done.\u001b[K\n",
            "remote: Counting objects:   4% (1/24)\u001b[K\rremote: Counting objects:   8% (2/24)\u001b[K\rremote: Counting objects:  12% (3/24)\u001b[K\rremote: Counting objects:  16% (4/24)\u001b[K\rremote: Counting objects:  20% (5/24)\u001b[K\rremote: Counting objects:  25% (6/24)\u001b[K\rremote: Counting objects:  29% (7/24)\u001b[K\rremote: Counting objects:  33% (8/24)\u001b[K\rremote: Counting objects:  37% (9/24)\u001b[K\rremote: Counting objects:  41% (10/24)\u001b[K\rremote: Counting objects:  45% (11/24)\u001b[K\rremote: Counting objects:  50% (12/24)\u001b[K\rremote: Counting objects:  54% (13/24)\u001b[K\rremote: Counting objects:  58% (14/24)\u001b[K\rremote: Counting objects:  62% (15/24)\u001b[K\rremote: Counting objects:  66% (16/24)\u001b[K\rremote: Counting objects:  70% (17/24)\u001b[K\rremote: Counting objects:  75% (18/24)\u001b[K\rremote: Counting objects:  79% (19/24)\u001b[K\rremote: Counting objects:  83% (20/24)\u001b[K\rremote: Counting objects:  87% (21/24)\u001b[K\rremote: Counting objects:  91% (22/24)\u001b[K\rremote: Counting objects:  95% (23/24)\u001b[K\rremote: Counting objects: 100% (24/24)\u001b[K\rremote: Counting objects: 100% (24/24), done.\u001b[K\n",
            "remote: Compressing objects: 100% (2/2), done.\u001b[K\n",
            "remote: Total 194 (delta 23), reused 22 (delta 22), pack-reused 170\u001b[K\n",
            "Receiving objects: 100% (194/194), 3.63 MiB | 16.97 MiB/s, done.\n",
            "Resolving deltas: 100% (89/89), done.\n"
          ]
        }
      ]
    },
    {
      "cell_type": "code",
      "source": [
        "cd soxan"
      ],
      "metadata": {
        "colab": {
          "base_uri": "https://localhost:8080/"
        },
        "id": "OTGtTljkgAPi",
        "outputId": "834c7c73-8919-4cfd-95f6-76e771f02470"
      },
      "execution_count": 60,
      "outputs": [
        {
          "output_type": "stream",
          "name": "stdout",
          "text": [
            "/content/soxan\n"
          ]
        }
      ]
    },
    {
      "cell_type": "code",
      "source": [
        "import torch\n",
        "import torch.nn as nn\n",
        "import torch.nn.functional as F\n",
        "import torchaudio\n",
        "from transformers import AutoConfig, Wav2Vec2FeatureExtractor\n",
        "from src.models import Wav2Vec2ForSpeechClassification, HubertForSpeechClassification\n",
        "\n",
        "import librosa\n",
        "import IPython.display as ipd"
      ],
      "metadata": {
        "id": "RBO-owREeK0B"
      },
      "execution_count": 61,
      "outputs": []
    },
    {
      "cell_type": "code",
      "source": [
        "device = torch.device(\"cuda\" if torch.cuda.is_available() else \"cpu\")\n",
        "model_name_or_path = \"m3hrdadfi/hubert-base-persian-speech-gender-recognition\"\n",
        "config = AutoConfig.from_pretrained(model_name_or_path)\n",
        "feature_extractor = Wav2Vec2FeatureExtractor.from_pretrained(model_name_or_path)\n",
        "sampling_rate = feature_extractor.sampling_rate\n",
        "model = HubertForSpeechClassification.from_pretrained(model_name_or_path).to(device)"
      ],
      "metadata": {
        "colab": {
          "base_uri": "https://localhost:8080/",
          "height": 113,
          "referenced_widgets": [
            "2332e2dfaf1743898889bbf4501351d6",
            "b9150c71056545e09eaee5f34fd69227",
            "28de975d3799417790b43b877f5610cc",
            "a48d69cf7af04f50acebdba749ecdc0b",
            "dde13bf0a2924cf5b1eb4dbfef65904f",
            "50a796bd13634a8e8688da062189ac9a",
            "05a4a68175774513a12b9292a165d4da",
            "e20d0a9443854977ab33cf59d33dfdce",
            "59a4b6c0471448b9bc658205b0564c21",
            "387a5baabb874fb4b650cb993ae06f5b",
            "2a9731e0edb5484494a379fcba8071d5",
            "0973ede389be45de97d1f7622f26f35c",
            "234ee4a404994fe8a5c58d1f412ec7b7",
            "9de55f190cdf4371b00258cd1a976b03",
            "855d8b65fe214ece960ce539206ead9c",
            "af4d842bbbcd4c03a487995842ca0aca",
            "148e87d98e0941cba167dd830a1c00e2",
            "4070fb77b0164314b9f262f3c32e18fe",
            "cc545ce434624f27a6a0adc90fe553e0",
            "53415d12d82b45c0a7e0c7399c9c60ae",
            "b12d0f7776824f0b85794ff22aef4de4",
            "e827624777334b48aa1132a8bbb6f71c",
            "8f1c91477c4145479f2c81db9e89197f",
            "af4f882f508a492c8f512b4ba40b9277",
            "3222e21b933c4e779b0490bf56efe7d4",
            "1565dda2abaa424db9e1b0c6c03b551f",
            "40f6839679094710aa93fc5c36b9f069",
            "17f70eb0c755438284821b70ecf3ba5e",
            "d0be8eff528e4d298aa339399a16651c",
            "0f7509209a2a48ee8e2d5f5b9842dca5",
            "efdd775d763048a5b28a39a94bd74f2e",
            "c67cc8cab3194a6b92b232d0df3f113a",
            "b5395d5f529f45c1be70e181a27dbc2f"
          ]
        },
        "id": "nU5B1GvIeQfk",
        "outputId": "7d345cf5-7ba1-46bc-d452-0625101177f2"
      },
      "execution_count": 62,
      "outputs": [
        {
          "output_type": "display_data",
          "data": {
            "text/plain": [
              "Downloading (…)lve/main/config.json:   0%|          | 0.00/1.56k [00:00<?, ?B/s]"
            ],
            "application/vnd.jupyter.widget-view+json": {
              "version_major": 2,
              "version_minor": 0,
              "model_id": "2332e2dfaf1743898889bbf4501351d6"
            }
          },
          "metadata": {}
        },
        {
          "output_type": "display_data",
          "data": {
            "text/plain": [
              "Downloading (…)rocessor_config.json:   0%|          | 0.00/213 [00:00<?, ?B/s]"
            ],
            "application/vnd.jupyter.widget-view+json": {
              "version_major": 2,
              "version_minor": 0,
              "model_id": "0973ede389be45de97d1f7622f26f35c"
            }
          },
          "metadata": {}
        },
        {
          "output_type": "display_data",
          "data": {
            "text/plain": [
              "Downloading pytorch_model.bin:   0%|          | 0.00/380M [00:00<?, ?B/s]"
            ],
            "application/vnd.jupyter.widget-view+json": {
              "version_major": 2,
              "version_minor": 0,
              "model_id": "8f1c91477c4145479f2c81db9e89197f"
            }
          },
          "metadata": {}
        }
      ]
    },
    {
      "cell_type": "code",
      "source": [
        "def speech_file_to_array_fn(path, sampling_rate):\n",
        "    speech_array, _sampling_rate = torchaudio.load(path)\n",
        "    resampler = torchaudio.transforms.Resample(_sampling_rate)\n",
        "    speech = resampler(speech_array).squeeze().numpy()\n",
        "    return speech\n",
        "\n",
        "\n",
        "def predict(path, sampling_rate):\n",
        "    speech = speech_file_to_array_fn(path, sampling_rate)\n",
        "    inputs = feature_extractor(speech, sampling_rate=sampling_rate, return_tensors=\"pt\", padding=True)\n",
        "    inputs = {key: inputs[key].to(device) for key in inputs}\n",
        "\n",
        "    with torch.no_grad():\n",
        "        logits = model(**inputs).logits\n",
        "\n",
        "    scores = F.softmax(logits, dim=1).detach().cpu().numpy()[0]\n",
        "    outputs = [{\"Label\": config.id2label[i], \"Score\": f\"{round(score * 100, 3):.1f}%\"} for i, score in enumerate(scores)]\n",
        "    return outputs"
      ],
      "metadata": {
        "id": "RVsYyBD7gk2X"
      },
      "execution_count": 63,
      "outputs": []
    },
    {
      "cell_type": "code",
      "source": [
        "def pred_pretrained_model(df):\n",
        "\n",
        "  total_samples = len(df)\n",
        "  correct_predictions = 0\n",
        "  sampling_rate=16000\n",
        "  gender_pred=[]\n",
        "  gender_true=[]\n",
        "\n",
        "  # Iterate over the DataFrame and calculate accuracy\n",
        "  for i in range(total_samples):\n",
        "\n",
        "\n",
        "      audio_file_path = mfcc_mean_std['Audio'][i]\n",
        "      gender=mfcc_mean_std['Gender'][i]\n",
        "\n",
        "      scores = predict(audio_file_path, sampling_rate)\n",
        "      # Convert scores to numeric values\n",
        "      scores_numeric = [float(score['Score'].strip('%')) for score in scores]\n",
        "\n",
        "      # Find the index of the maximum score\n",
        "      max_score_index = scores_numeric.index(max(scores_numeric))\n",
        "\n",
        "      # Get the label with the highest score\n",
        "      predicted_label = scores[max_score_index]['Label']\n",
        "      gender_pred.append(predicted_label)\n",
        "      gender_true.append(gender)\n",
        "\n",
        "  return gender_pred, gender_true\n",
        "\n"
      ],
      "metadata": {
        "id": "e-ZgztfGBpQI"
      },
      "execution_count": 64,
      "outputs": []
    },
    {
      "cell_type": "code",
      "source": [
        "pickle_file_path = \"/content/drive/MyDrive/gender_predictions.pickle\"\n",
        "\n",
        "# Define a function to load data from the pickle file\n",
        "def load_data_from_pickle(pickle_file_path):\n",
        "    with open(pickle_file_path, 'rb') as f:\n",
        "        data = pickle.load(f)\n",
        "    return data\n",
        "\n",
        "# Check if the pickle file exists\n",
        "if os.path.exists(pickle_file_path):\n",
        "  # Load data from the pickle file\n",
        "  loaded_data = load_data_from_pickle(pickle_file_path)\n",
        "\n",
        "  # Access the loaded gender predictions and true labels\n",
        "  gender_pred = loaded_data['gender_pred']\n",
        "  gender_true = loaded_data['gender_true']\n",
        "\n",
        "  print(\"Loaded gender predictions\")\n",
        "  print(\"Loaded true labels\")\n",
        "else:\n",
        "  print(\"The pickle file does not exist.Make predictions.\")\n",
        "  gender_pred,gender_true = pred_pretrained_model(mfcc_mean_std)\n",
        "  data_to_save = {'gender_pred': gender_pred,'gender_true': gender_true}\n",
        "\n",
        "  # Use the 'wb' mode to write in binary format\n",
        "  with open(pickle_file_path, 'wb') as pickle_file:\n",
        "    pickle.dump(data_to_save, pickle_file)\n",
        "\n"
      ],
      "metadata": {
        "colab": {
          "base_uri": "https://localhost:8080/"
        },
        "id": "a9c_yocpCmx2",
        "outputId": "62a3e1e6-1fbf-43b1-a2fc-8d5ab6a01dbc"
      },
      "execution_count": 65,
      "outputs": [
        {
          "output_type": "stream",
          "name": "stdout",
          "text": [
            "Loaded gender predictions\n",
            "Loaded true labels\n"
          ]
        }
      ]
    },
    {
      "cell_type": "code",
      "source": [
        "from keras.utils import to_categorical\n",
        "\n",
        "# Map labels to numerical values\n",
        "label_mapping = {'F': 0, 'M': 1}\n",
        "gender_pred_numeric = np.array([label_mapping[label] for label in gender_pred])\n",
        "gender_true_numeric = np.array([label_mapping[label] for label in gender_true])\n",
        "\n",
        "gender_pred_one_hot = to_categorical(gender_pred_numeric, num_classes=2)\n",
        "gender_true_one_hot = to_categorical(gender_true_numeric, num_classes=2)"
      ],
      "metadata": {
        "id": "zDFMgS8z9KB6"
      },
      "execution_count": 66,
      "outputs": []
    },
    {
      "cell_type": "code",
      "source": [
        "from sklearn.metrics import accuracy_score, recall_score, precision_score\n",
        "\n",
        "# Assuming you have y_pred and y_true arrays defined\n",
        "y_pred_premodel =gender_pred_numeric\n",
        "y_true_premodel = gender_true_numeric\n",
        "\n",
        "\n",
        "get_acc_recall_prec_conf_matrix(y_pred_premodel,y_true_premodel)"
      ],
      "metadata": {
        "colab": {
          "base_uri": "https://localhost:8080/"
        },
        "id": "huy8rAq1Z-dC",
        "outputId": "15c35218-45a1-48cc-883a-46d29cfb79f9"
      },
      "execution_count": 67,
      "outputs": [
        {
          "output_type": "stream",
          "name": "stdout",
          "text": [
            "Accuracy: 0.9180811808118081\n",
            "Precision: 0.9025454545454545\n",
            "Recall: 0.9337848006019563\n",
            "Confusion Matrix:\n",
            "[[1247  134]\n",
            " [  88 1241]]\n"
          ]
        }
      ]
    },
    {
      "cell_type": "markdown",
      "source": [
        "\n",
        "\n",
        "*   Introduction\n",
        "\n",
        "The four chosen algorithms for performing gender classification were: the Gradient Boosting algorithm available in the scikit-learn library; a Neural Network adapted from a repository found on GitHub that performed the same task; a CNN inspired by the following paper; and finally, we used a hubert-base-persian-speech-gender-recognition model available on Hugging Face.\n",
        "\n",
        "For the first three models, we trained the model on frames and evaluated both on a per-frame basis and per audio (determining the gender of the person in the audio by considering the majority prediction of the frames). The last model was evaluated only at the audio level.\n",
        "\n",
        "\n",
        "*   Gradient Boosting algorithm\n",
        "\n",
        "This model was selected due to its ease of implementation and minimal computational requirements. The primary aim was to assess accuracy in our dataset using a straightforward approach. In a frame-based evaluation, the model achieved an accuracy of 0.75, a precision of 0.76, and a recall of 0.74. From an audio-based perspective, the model achieved an accuracy of 0.90, a precision of 0.91, and a recall of 0.89.\n",
        "\n",
        "It is evident from these scores that there was a significant enhancement in model performance when evaluating on both a per-frame and per-audio basis. This stresses the importance of the evaluation strategy in understanding the model's behavior. In both evaluation scenarios, the model exhibited substantial progress, indicating its potential for accurate gender classification. Required around 8 min to compile.\n",
        "\n",
        "\n",
        "* Neural Network\n",
        "\n",
        "We adapted a Neural Network sourced from GitHub, initially designed with three layers and only one hidden layer. To enhance its complexity, we added an additional hidden layer and incorporated batch normalization for improved performance assessment. However, due to its increased complexity, this model required a longer compilation time, approximately 30 minutes.\n",
        "\n",
        "From a frame evaluation perspective, the model achieved an accuracy of 0.896, precision of 0.88, and recall of 0.91. On an audio-level evaluation, the model excelled with an accuracy, precision, and recall of 0.998, showcasing near-perfect performance.\n",
        "\n",
        "Comparatively, the performance of this model was notably superior, particularly from an audio perspective. The significant improvement in performance is evident when comparing the results at the frame and audio levels. Moreover, this model demonstrated exceptional audio-level performance, emphasizing its potential for accurate gender classification. Notably, the computational demands for this model remained manageable despite its enhanced performance.\n",
        "\n",
        "\n",
        "*   CNN Model\n",
        "\n",
        "We implemented a CNN based on the model described in 'DGR: Gender Recognition of Human Speech Using One-Dimensional Conventional Neural Network' by Rami S. Alkhawaldeh. The author reported a remarkable recall of 99.7% in this paper, making it a promising candidate for testing on our dataset. In comparison to the previous two models, this CNN exhibited significantly higher complexity. Training the model for 200 epochs took approximately 3 to 4 hours. It's worth noting that the author trained for 1000 epochs, but due to computational limitations, we opted to reduce the number of epochs.\n",
        "\n",
        "In terms of frame evaluation, the model achieved an accuracy of 0.908, a precision of 0.905, and a recall of 0.91. When evaluated at the audio level, the model displayed exceptional performance with an accuracy of 0.998, a precision of 0.999, and a recall of 0.998, approaching near-perfection.\n",
        "\n",
        "Comparatively, significant improvements were observed in both frame-based and audio-level evaluations. However, when comparing with the previously discussed Neural Network, there was a slight improvement from a frame perspective, and the audio-level performance was comparable. Considering the computational power required for this model, which was around 10 times more in terms of time than the Neural Network, it may not be the most efficient choice for this particular task.\n",
        "\n",
        "\n",
        "\n",
        "*   Hugging Face model\n",
        "\n",
        "This model is fundamentally different from the previous ones. Unlike the previous models, the features fed into this model were not MFCC features, and it was not trained and tested at a frame level. We chose this model because of its simplicity and its availability on Hugging Face. The model is notably user-friendly in terms of implementation. While the model architecture itself is not inherently simple, its ease of use for predicting gender based on audio makes it accessible and straightforward. Moreover, we saw an opportunity to assess the model on an English dataset, allowing us to investigate whether gender recognition is language-dependent or not, since the model is pre-trained in persian.\n",
        "\n",
        "It took approximately 2 hours to predict the gender for all the audio samples. The model achieved an accuracy of 0.92, a recall of 0.9, and a precision of 0.93. We observed a decrease in performance compared to the Neural Network and the CNN, but a slight increase compared to the gradient boosting algorithm. Nevertheless, the computational weight required is comparable to the CNN. Consequently, its implementation does not justify its usage. However, it did demonstrate that gender recognition is language-dependent in this case. Additionally, its implementation is far less complex than the other models.\n",
        "\n",
        "\n",
        "\n",
        "\n",
        "*   Conclusion\n",
        "\n",
        "The best-performing model in terms of both results and training time was the Neural Network. Despite being less complex than the CNN and the Hugging Face model, its architecture combined with the extracted MFCCs proved effective in capturing crucial patterns and features from the dataset for gender recognition.\n",
        "\n",
        "It is well-established that the fundamental frequency (F0), encapsulated within the MFCCs, serves as a distinctive feature. This became apparent during the initial data visualization, where certain MFCC coefficients already displayed noticeable patterns distinguishing between male and female voices. Leveraging these distinctive voice differences and considering the prior success of the model on another dataset, we were confident in its ability to capture these nuances. It was clear that a more complex model was not a requisite. Moreover, the dataset consisted of clean audio, with individuals reading sentences, thereby reducing noise and augmenting the performance of simpler models.\n",
        "\n",
        "\n"
      ],
      "metadata": {
        "id": "yRUTTpqdO3vy"
      }
    },
    {
      "cell_type": "markdown",
      "source": [
        "**Second question**"
      ],
      "metadata": {
        "id": "bk1Tkd5T3iKy"
      }
    },
    {
      "cell_type": "code",
      "source": [
        "!pip install fairseq"
      ],
      "metadata": {
        "colab": {
          "base_uri": "https://localhost:8080/"
        },
        "id": "7Y-QS8OO3vvy",
        "outputId": "3562214b-61a6-4b2d-ccea-7e07562c05c9"
      },
      "execution_count": 68,
      "outputs": [
        {
          "output_type": "stream",
          "name": "stdout",
          "text": [
            "Collecting fairseq\n",
            "  Downloading fairseq-0.12.2.tar.gz (9.6 MB)\n",
            "\u001b[2K     \u001b[90m━━━━━━━━━━━━━━━━━━━━━━━━━━━━━━━━━━━━━━━━\u001b[0m \u001b[32m9.6/9.6 MB\u001b[0m \u001b[31m49.8 MB/s\u001b[0m eta \u001b[36m0:00:00\u001b[0m\n",
            "\u001b[?25h  Installing build dependencies ... \u001b[?25l\u001b[?25hdone\n",
            "  Getting requirements to build wheel ... \u001b[?25l\u001b[?25hdone\n",
            "  Installing backend dependencies ... \u001b[?25l\u001b[?25hdone\n",
            "  Preparing metadata (pyproject.toml) ... \u001b[?25l\u001b[?25hdone\n",
            "Requirement already satisfied: cffi in /usr/local/lib/python3.10/dist-packages (from fairseq) (1.16.0)\n",
            "Requirement already satisfied: cython in /usr/local/lib/python3.10/dist-packages (from fairseq) (3.0.2)\n",
            "Collecting hydra-core<1.1,>=1.0.7 (from fairseq)\n",
            "  Downloading hydra_core-1.0.7-py3-none-any.whl (123 kB)\n",
            "\u001b[2K     \u001b[90m━━━━━━━━━━━━━━━━━━━━━━━━━━━━━━━━━━━━━━\u001b[0m \u001b[32m123.8/123.8 kB\u001b[0m \u001b[31m13.6 MB/s\u001b[0m eta \u001b[36m0:00:00\u001b[0m\n",
            "\u001b[?25hCollecting omegaconf<2.1 (from fairseq)\n",
            "  Downloading omegaconf-2.0.6-py3-none-any.whl (36 kB)\n",
            "Requirement already satisfied: regex in /usr/local/lib/python3.10/dist-packages (from fairseq) (2023.6.3)\n",
            "Collecting sacrebleu>=1.4.12 (from fairseq)\n",
            "  Downloading sacrebleu-2.3.1-py3-none-any.whl (118 kB)\n",
            "\u001b[2K     \u001b[90m━━━━━━━━━━━━━━━━━━━━━━━━━━━━━━━━━━━━━━\u001b[0m \u001b[32m118.9/118.9 kB\u001b[0m \u001b[31m13.9 MB/s\u001b[0m eta \u001b[36m0:00:00\u001b[0m\n",
            "\u001b[?25hRequirement already satisfied: torch in /usr/local/lib/python3.10/dist-packages (from fairseq) (2.0.1+cu118)\n",
            "Requirement already satisfied: tqdm in /usr/local/lib/python3.10/dist-packages (from fairseq) (4.66.1)\n",
            "Collecting bitarray (from fairseq)\n",
            "  Downloading bitarray-2.8.2-cp310-cp310-manylinux_2_17_x86_64.manylinux2014_x86_64.whl (286 kB)\n",
            "\u001b[2K     \u001b[90m━━━━━━━━━━━━━━━━━━━━━━━━━━━━━━━━━━━━━━\u001b[0m \u001b[32m286.5/286.5 kB\u001b[0m \u001b[31m25.5 MB/s\u001b[0m eta \u001b[36m0:00:00\u001b[0m\n",
            "\u001b[?25hRequirement already satisfied: torchaudio>=0.8.0 in /usr/local/lib/python3.10/dist-packages (from fairseq) (2.0.2+cu118)\n",
            "Requirement already satisfied: numpy in /usr/local/lib/python3.10/dist-packages (from fairseq) (1.23.5)\n",
            "Collecting antlr4-python3-runtime==4.8 (from hydra-core<1.1,>=1.0.7->fairseq)\n",
            "  Downloading antlr4-python3-runtime-4.8.tar.gz (112 kB)\n",
            "\u001b[2K     \u001b[90m━━━━━━━━━━━━━━━━━━━━━━━━━━━━━━━━━━━━━━\u001b[0m \u001b[32m112.4/112.4 kB\u001b[0m \u001b[31m13.3 MB/s\u001b[0m eta \u001b[36m0:00:00\u001b[0m\n",
            "\u001b[?25h  Preparing metadata (setup.py) ... \u001b[?25l\u001b[?25hdone\n",
            "Requirement already satisfied: PyYAML>=5.1.* in /usr/local/lib/python3.10/dist-packages (from omegaconf<2.1->fairseq) (6.0.1)\n",
            "Requirement already satisfied: typing-extensions in /usr/local/lib/python3.10/dist-packages (from omegaconf<2.1->fairseq) (4.5.0)\n",
            "Collecting portalocker (from sacrebleu>=1.4.12->fairseq)\n",
            "  Downloading portalocker-2.8.2-py3-none-any.whl (17 kB)\n",
            "Requirement already satisfied: tabulate>=0.8.9 in /usr/local/lib/python3.10/dist-packages (from sacrebleu>=1.4.12->fairseq) (0.9.0)\n",
            "Collecting colorama (from sacrebleu>=1.4.12->fairseq)\n",
            "  Downloading colorama-0.4.6-py2.py3-none-any.whl (25 kB)\n",
            "Requirement already satisfied: lxml in /usr/local/lib/python3.10/dist-packages (from sacrebleu>=1.4.12->fairseq) (4.9.3)\n",
            "Requirement already satisfied: filelock in /usr/local/lib/python3.10/dist-packages (from torch->fairseq) (3.12.4)\n",
            "Requirement already satisfied: sympy in /usr/local/lib/python3.10/dist-packages (from torch->fairseq) (1.12)\n",
            "Requirement already satisfied: networkx in /usr/local/lib/python3.10/dist-packages (from torch->fairseq) (3.1)\n",
            "Requirement already satisfied: jinja2 in /usr/local/lib/python3.10/dist-packages (from torch->fairseq) (3.1.2)\n",
            "Requirement already satisfied: triton==2.0.0 in /usr/local/lib/python3.10/dist-packages (from torch->fairseq) (2.0.0)\n",
            "Requirement already satisfied: cmake in /usr/local/lib/python3.10/dist-packages (from triton==2.0.0->torch->fairseq) (3.27.6)\n",
            "Requirement already satisfied: lit in /usr/local/lib/python3.10/dist-packages (from triton==2.0.0->torch->fairseq) (17.0.2)\n",
            "Requirement already satisfied: pycparser in /usr/local/lib/python3.10/dist-packages (from cffi->fairseq) (2.21)\n",
            "Requirement already satisfied: MarkupSafe>=2.0 in /usr/local/lib/python3.10/dist-packages (from jinja2->torch->fairseq) (2.1.3)\n",
            "Requirement already satisfied: mpmath>=0.19 in /usr/local/lib/python3.10/dist-packages (from sympy->torch->fairseq) (1.3.0)\n",
            "Building wheels for collected packages: fairseq, antlr4-python3-runtime\n",
            "  Building wheel for fairseq (pyproject.toml) ... \u001b[?25l\u001b[?25hdone\n",
            "  Created wheel for fairseq: filename=fairseq-0.12.2-cp310-cp310-linux_x86_64.whl size=11289841 sha256=e72e543a97165605d97a358f6cb401dfb50cb782add3cbf6d742f3765fd7a01b\n",
            "  Stored in directory: /root/.cache/pip/wheels/e4/35/55/9c66f65ec7c83fd6fbc2b9502a0ac81b2448a1196159dacc32\n",
            "  Building wheel for antlr4-python3-runtime (setup.py) ... \u001b[?25l\u001b[?25hdone\n",
            "  Created wheel for antlr4-python3-runtime: filename=antlr4_python3_runtime-4.8-py3-none-any.whl size=141209 sha256=091ee0630996fa95ad92adcc1a433859e3faa5fe12c3edde8ff25dff7b332607\n",
            "  Stored in directory: /root/.cache/pip/wheels/a7/20/bd/e1477d664f22d99989fd28ee1a43d6633dddb5cb9e801350d5\n",
            "Successfully built fairseq antlr4-python3-runtime\n",
            "Installing collected packages: bitarray, antlr4-python3-runtime, portalocker, omegaconf, colorama, sacrebleu, hydra-core, fairseq\n",
            "Successfully installed antlr4-python3-runtime-4.8 bitarray-2.8.2 colorama-0.4.6 fairseq-0.12.2 hydra-core-1.0.7 omegaconf-2.0.6 portalocker-2.8.2 sacrebleu-2.3.1\n"
          ]
        }
      ]
    },
    {
      "cell_type": "code",
      "source": [
        "import torch\n",
        "import fairseq\n",
        "import torchaudio\n",
        "\n",
        "wav2vec2_checkpoint_path = '/content/drive/MyDrive/wav2vec_small.pt'\n",
        "checkpoint = torch.load(wav2vec2_checkpoint_path)\n",
        "cfg = fairseq.dataclass.utils.convert_namespace_to_omegaconf(checkpoint['args'])\n",
        "wav2vec2_encoder = fairseq.models.wav2vec.Wav2Vec2Model.build_model(cfg.model)\n",
        "wav2vec2_encoder.load_state_dict(checkpoint['model'])"
      ],
      "metadata": {
        "id": "H200tCJqU8DZ",
        "colab": {
          "base_uri": "https://localhost:8080/"
        },
        "outputId": "b3ff910d-c820-495a-fafe-6758069571ec"
      },
      "execution_count": 69,
      "outputs": [
        {
          "output_type": "execute_result",
          "data": {
            "text/plain": [
              "<All keys matched successfully>"
            ]
          },
          "metadata": {},
          "execution_count": 69
        }
      ]
    },
    {
      "cell_type": "code",
      "source": [
        "def get_feat_labels_wav2vec(wav2vec2_encoder, file_path):\n",
        "  \"\"\"\n",
        "    Extracts features using a Wav2Vec2 model and saves the features, speaker ID, gender, and audio file information\n",
        "    to a DataFrame, which is then serialized and saved to a file using pickle.\n",
        "\n",
        "    Parameters:\n",
        "    wav2vec2_encoder (torch.nn.Module): Wav2Vec2 encoder model for feature extraction.\n",
        "    file_path (str): Path to the file where the DataFrame with extracted features will be saved.\n",
        "\n",
        "    Returns:\n",
        "    None\n",
        "  \"\"\"\n",
        "\n",
        "  dir = '/content/drive/MyDrive/dev-clean'\n",
        "  speakers = '/content/drive/MyDrive/SPEAKERS.TXT'\n",
        "  id_speaker,gender_speaker=get_speaker_id_gender(speakers)\n",
        "\n",
        "  # List of column names for the DataFrame\n",
        "  column_names = ['Features', 'Speaker_ID', 'Gender','Audio']\n",
        "\n",
        "  # Number of samples in a 2 seconds clip (2*sample_rate(16Khz))\n",
        "  num_samples_per_chunk = 32000\n",
        "\n",
        "  # Initialize an empty DataFrame with the specified column names\n",
        "  df_final = pd.DataFrame(columns=column_names)\n",
        "\n",
        "  for index, id in enumerate(id_speaker):\n",
        "\n",
        "    dir_audios = dir + '/' + id + '/*/*.flac'\n",
        "    file_list = glob.glob(dir_audios)\n",
        "    audio_files = []\n",
        "\n",
        "    for audio in file_list:\n",
        "\n",
        "      #load audio\n",
        "      waveform, sample_rate = torchaudio.load(audio)\n",
        "\n",
        "      #Check if audio is shorter than 2 seconds\n",
        "      if waveform.shape[1] < 32000:\n",
        "        chunks = waveform\n",
        "      else:\n",
        "        # Unfold the waveform into subsequent 2-second chunks\n",
        "        chunks = waveform.unfold(1, num_samples_per_chunk, num_samples_per_chunk)\n",
        "        chunks = chunks.squeeze(0)\n",
        "\n",
        "      # Iterate over the chunks and apply the model to each chunk\n",
        "      for i in range(chunks.size(0)):\n",
        "          chunk = chunks[i]\n",
        "\n",
        "          # Ensure the chunk has the right size (num_samples_per_chunk samples)\n",
        "          if chunk.size(0) < num_samples_per_chunk:\n",
        "              padding = torch.zeros(num_samples_per_chunk - chunk.size(0))\n",
        "              chunk = torch.cat((chunk, padding), dim=0)\n",
        "\n",
        "          # Extract features for the chunk\n",
        "          features_wav2vec =  wav2vec2_encoder(chunk.unsqueeze(0), features_only=True, mask=False)['x']\n",
        "          features_np = features_wav2vec.detach().numpy()\n",
        "\n",
        "          df_features = pd.DataFrame({'Features': [features_np]})\n",
        "\n",
        "          # Add speaker ID, gender, and audio to df_features\n",
        "          df_features['Speaker_ID'] = id\n",
        "          df_features['Gender'] = gender_speaker[index]\n",
        "          df_features['Audio'] = audio\n",
        "\n",
        "        # Concatenate the DataFrames\n",
        "          df_final = pd.concat([df_features, df_final])\n",
        "\n",
        "\n",
        "  with open(file_path, 'wb') as file:\n",
        "    # Dump the dataframe to the file using pickle.dump\n",
        "    pickle.dump(df_final, file)\n"
      ],
      "metadata": {
        "id": "MWN53xtE4jPk"
      },
      "execution_count": 70,
      "outputs": []
    },
    {
      "cell_type": "markdown",
      "source": [
        "Extract features with Wav2Vec model"
      ],
      "metadata": {
        "id": "gvbJlBAqzloO"
      }
    },
    {
      "cell_type": "code",
      "source": [
        "# Define the file path\n",
        "file_path = '/content/drive/MyDrive/try.pickle'\n",
        "\n",
        "# Check if the file exists\n",
        "if os.path.exists(file_path):\n",
        "    # Load the dataframe from the file\n",
        "    print('File exists.Load data.')\n",
        "    with open(file_path, 'rb') as file:\n",
        "        df_wav2vec = pickle.load(file)\n",
        "else:\n",
        "    print(\"File does not exists. Extracting features.\")\n",
        "    # Call the function with the loaded data\n",
        "    get_feat_labels_wav2vec(wav2vec2_encoder, file_path)\n"
      ],
      "metadata": {
        "colab": {
          "base_uri": "https://localhost:8080/"
        },
        "id": "2YNP96BN4GV4",
        "outputId": "f2b5425c-90b8-439a-c606-32a9458b96c8"
      },
      "execution_count": 3,
      "outputs": [
        {
          "output_type": "stream",
          "name": "stdout",
          "text": [
            "File exists.Load data.\n"
          ]
        }
      ]
    },
    {
      "cell_type": "code",
      "source": [
        "import numpy as np\n",
        "import pandas as pd\n",
        "\n",
        "def flatten_and_convert(feature):\n",
        "    \"\"\"\n",
        "    Flatten and convert the input feature to a NumPy array.\n",
        "\n",
        "    Parameters:\n",
        "    feature (list): List representing a feature.\n",
        "\n",
        "    Returns:\n",
        "    np.ndarray: Flattened feature as a NumPy array.\n",
        "    \"\"\"\n",
        "    # Convert the input feature (a list) to a NumPy array and squeeze any extra dimensions\n",
        "    flattened_feature = np.array(feature).squeeze()\n",
        "    return flattened_feature\n",
        "\n",
        "\n",
        "# Apply the 'flatten_and_convert' function to each row in the 'Features' column\n",
        "df_wav2vec['Features'] = df_wav2vec['Features'].apply(flatten_and_convert)\n"
      ],
      "metadata": {
        "id": "VwX3M3bj6g6k"
      },
      "execution_count": 4,
      "outputs": []
    },
    {
      "cell_type": "code",
      "source": [
        "X_wav2vec = df_wav2vec['Features'].values\n",
        "y_wav2vec= df_wav2vec['Speaker_ID'].values"
      ],
      "metadata": {
        "id": "gM_tcua76rGC"
      },
      "execution_count": 5,
      "outputs": []
    },
    {
      "cell_type": "code",
      "source": [
        "from sklearn.model_selection import train_test_split\n",
        "# Split the dataset into training and testing sets, ensuring stratification by speaker ID\n",
        "X_train_wav2vec, X_test_wav2vec, y_train_wav2vec, y_test_wav2vec = train_test_split(X_wav2vec, y_wav2vec, test_size=0.3,\n",
        "                                                                                    stratify=y_wav2vec, # Ensure proportional representation of speakers in train and test sets\n",
        "                                                                                    random_state=42)"
      ],
      "metadata": {
        "id": "JlC02-yz7TvP"
      },
      "execution_count": 8,
      "outputs": []
    },
    {
      "cell_type": "markdown",
      "source": [
        "**Quantitative analysis**"
      ],
      "metadata": {
        "id": "QKIEkPSgyG1_"
      }
    },
    {
      "cell_type": "markdown",
      "source": [
        "Gaussian Mixture Model Implementation for speaker prediction"
      ],
      "metadata": {
        "id": "LokuOF7szytR"
      }
    },
    {
      "cell_type": "code",
      "source": [
        "unique_speakers = np.unique(y_train_wav2vec)"
      ],
      "metadata": {
        "id": "CKu3yLEa717B"
      },
      "execution_count": 75,
      "outputs": []
    },
    {
      "cell_type": "code",
      "source": [
        "from sklearn.mixture import GaussianMixture\n",
        "\n",
        "def train_gmm(gmm_models_file_path, unique_speakers, X_train_wav2vec, y_train_wav2vec):\n",
        "    \"\"\"\n",
        "    Trains Gaussian Mixture Models (GMM) for each unique speaker in the dataset and saves the models to a file.\n",
        "\n",
        "    Parameters:\n",
        "    gmm_models_file_path (str): File path to save the GMM models.\n",
        "    unique_speakers (list): List of unique speaker identifiers.\n",
        "    X_train_wav2vec (numpy.ndarray): Feature matrix containing training data (wave2vec features).\n",
        "    y_train_wav2vec (numpy.ndarray): Labels corresponding to the training data.\n",
        "\n",
        "    Returns:\n",
        "    None\n",
        "    \"\"\"\n",
        "    gmm_models = {}\n",
        "\n",
        "    for speaker_id in unique_speakers:\n",
        "        print(\"Training GMM for speaker:\", speaker_id)\n",
        "        # Select features for the current speaker\n",
        "        speaker_features = np.vstack(X_train_wav2vec[y_train_wav2vec == speaker_id])\n",
        "\n",
        "        # Initialize and fit Gaussian Mixture Model\n",
        "        gmm = GaussianMixture(n_components=16, covariance_type='diag', n_init=3)\n",
        "        gmm.fit(speaker_features)\n",
        "        gmm_models[speaker_id] = gmm\n",
        "\n",
        "    # Save the trained GMM models to a file\n",
        "    with open(gmm_models_file_path, 'wb') as gmm_models_file:\n",
        "        pickle.dump(gmm_models, gmm_models_file)\n",
        "\n",
        "    print('GMM models saved to', gmm_models_file_path)"
      ],
      "metadata": {
        "id": "IEAYyDjXK7pi"
      },
      "execution_count": 76,
      "outputs": []
    },
    {
      "cell_type": "code",
      "source": [
        "file_path='/content/drive/MyDrive/gmm_models.pickle'\n",
        "\n",
        "if os.path.exists(file_path):\n",
        "  # Load the GMM models from the file\n",
        "  print(\"Model successfully loaded.\")\n",
        "  with open(file_path, 'rb') as gmm_models_file:\n",
        "    loaded_gmm_models = pickle.load(gmm_models_file)\n",
        "\n",
        "else:\n",
        "    print(\"Model does not exist. Training a new model.\")\n",
        "    train_gmm(file_path,unique_speakers,X_train_wav2vec,y_train_wav2vec)\n",
        ""
      ],
      "metadata": {
        "colab": {
          "base_uri": "https://localhost:8080/"
        },
        "id": "ncolhepIvY_i",
        "outputId": "7c0b778b-5495-475d-8543-5cc8c5df9084"
      },
      "execution_count": 77,
      "outputs": [
        {
          "output_type": "stream",
          "name": "stdout",
          "text": [
            "Model successfully loaded.\n"
          ]
        }
      ]
    },
    {
      "cell_type": "code",
      "source": [
        "def test_gmm_model(X_test_wav2vec, gmm_models):\n",
        "    \"\"\"\n",
        "    Predicts the speaker for each test sample using Gaussian Mixture Models (GMM).\n",
        "\n",
        "    Parameters:\n",
        "    X_test_wav2vec (numpy.ndarray): Feature matrix containing test data (wave2vec features).\n",
        "    gmm_models (dict): Dictionary containing GMM models for each speaker.\n",
        "\n",
        "    Returns:\n",
        "    list: Predicted speakers for each test sample.\n",
        "    \"\"\"\n",
        "\n",
        "    # Predicted speakers for each test sample\n",
        "    predicted_speakers = []\n",
        "\n",
        "    for test_sample in X_test_wav2vec:\n",
        "        test_sample_reshaped = test_sample.reshape(-1, 768)\n",
        "\n",
        "        max_likelihood = float('-inf')\n",
        "        predicted_speaker = None\n",
        "\n",
        "        # Iterate through each GMM model (one for each speaker)\n",
        "        for speaker_id, gmm_model in gmm_models.items():\n",
        "            # Calculate the log-likelihood for the current speaker's GMM\n",
        "            log_likelihood = gmm_model.score(test_sample)\n",
        "\n",
        "            # Update predicted speaker if this speaker has a higher likelihood\n",
        "            if log_likelihood > max_likelihood:\n",
        "                max_likelihood = log_likelihood\n",
        "                predicted_speaker = speaker_id\n",
        "\n",
        "        # Store the predicted speaker for this test sample\n",
        "        predicted_speakers.append(predicted_speaker)\n",
        "\n",
        "    return predicted_speakers\n"
      ],
      "metadata": {
        "id": "ykZ2djqhxVPw"
      },
      "execution_count": 78,
      "outputs": []
    },
    {
      "cell_type": "code",
      "source": [
        "y_pred_gmm = test_gmm_model(X_test_wav2vec,loaded_gmm_models)"
      ],
      "metadata": {
        "id": "JjO7DVt4xmc9"
      },
      "execution_count": 79,
      "outputs": []
    },
    {
      "cell_type": "code",
      "source": [
        "correct_predictions = np.sum(y_test_wav2vec == y_pred_gmm)\n",
        "# Calculate accuracy\n",
        "accuracy = correct_predictions / len(y_test_wav2vec)\n",
        "print(\"Accuracy:\", accuracy)"
      ],
      "metadata": {
        "colab": {
          "base_uri": "https://localhost:8080/"
        },
        "id": "PqgG6sO7x29P",
        "outputId": "4b668df6-8ec5-42e2-c9e1-e9ef710adf76"
      },
      "execution_count": 80,
      "outputs": [
        {
          "output_type": "stream",
          "name": "stdout",
          "text": [
            "Accuracy: 0.8035439137134053\n"
          ]
        }
      ]
    },
    {
      "cell_type": "markdown",
      "source": [
        "Neural Network"
      ],
      "metadata": {
        "id": "b9ftK8vYyM2n"
      }
    },
    {
      "cell_type": "code",
      "source": [
        "from keras.optimizers import SGD\n",
        "\n",
        "class NeuralNetworkClassifier:\n",
        "    \"\"\"\n",
        "    Neural Network Classifier for speech recognition.\n",
        "\n",
        "    Attributes:\n",
        "        model (Sequential): Keras Sequential model for the classifier.\n",
        "\n",
        "    Methods:\n",
        "        __init__: Initializes the classifier model.\n",
        "        compile_model: Compiles the classifier model.\n",
        "        train_model: Trains the classifier model or loads from a saved model if it exists.\n",
        "    \"\"\"\n",
        "    def __init__(self, input_dim, output_dim):\n",
        "      \"\"\"\n",
        "      Initializes the classifier model.\n",
        "\n",
        "      Parameters:\n",
        "      input_dim (int): Dimension of the input features.\n",
        "      output_dim (int): Dimension of the output labels.\n",
        "      \"\"\"\n",
        "      self.model = Sequential()\n",
        "      self.model.add(Dense(64, input_dim=input_dim, kernel_initializer='glorot_normal'))\n",
        "      self.model.add(BatchNormalization())\n",
        "      self.model.add(Activation('tanh'))\n",
        "      self.model.add(Dense(250, kernel_initializer='glorot_normal'))\n",
        "      self.model.add(BatchNormalization())\n",
        "      self.model.add(Dropout(0.5))\n",
        "      self.model.add(Dense(output_dim, kernel_initializer='glorot_normal'))\n",
        "      self.model.add(Activation('softmax'))\n",
        "\n",
        "\n",
        "    def compile_model(self):\n",
        "      \"\"\"\n",
        "      Compiles the classifier model.\n",
        "\n",
        "      Returns:\n",
        "          None\n",
        "      \"\"\"\n",
        "      sgd = SGD(learning_rate=0.1, momentum=0.9, nesterov=True)\n",
        "      self.model.compile(loss='categorical_crossentropy', optimizer=sgd, metrics=['accuracy'])\n",
        "\n"
      ],
      "metadata": {
        "id": "c0YJ1dvkPH7x"
      },
      "execution_count": 81,
      "outputs": []
    },
    {
      "cell_type": "code",
      "source": [
        "from sklearn.preprocessing import LabelEncoder\n",
        "from sklearn.preprocessing import LabelBinarizer\n",
        "\n",
        "# Set the model path and output dimension\n",
        "model_path = '/content/drive/MyDrive/model_wav2vec.h5'  # Path to the pre-trained model, if available\n",
        "output_dim = len(unique_speakers)  # Number of unique speakers\n",
        "\n",
        "# Replicate labels for each frame\n",
        "y_train_replicated = np.repeat(y_train_wav2vec, 99)\n",
        "\n",
        "# Check if the model exists and load it if specified and exists\n",
        "if model_path and os.path.exists(model_path):\n",
        "    nn_wav2vec = load_model(model_path)\n",
        "    print(\"Model successfully loaded.\")\n",
        "else:\n",
        "  print(\"Model does not exist. Training a new model.\")\n",
        "  # Prepare the input features for training\n",
        "  X_train_nn = np.concatenate(X_train_wav2vec).reshape(-1, 768)\n",
        "\n",
        "  # Encode labels using LabelEncoder and convert to one-hot encoding\n",
        "  label_encoder = LabelEncoder()\n",
        "  y_test_numerical = np.array(label_encoder.fit_transform(y_train_replicated))\n",
        "\n",
        "  label_binarizer = LabelBinarizer()\n",
        "  y_test_one_hot_nn = label_binarizer.fit_transform(y_test_numerical)\n",
        "\n",
        "  # Get the input dimension for the neural network\n",
        "  input_dim = X_train_nn.shape[1]\n",
        "\n",
        "  #Train the model\n",
        "  nn_wav2vec = NeuralNetworkClassifier(input_dim, output_dim)\n",
        "  history = nn_wav2vec.train(X_train_nn, y_test_one_hot_nn, epochs=60, validation_split=0.2, batch_size=32)\n",
        "\n"
      ],
      "metadata": {
        "id": "mZolVMFgPKza",
        "colab": {
          "base_uri": "https://localhost:8080/"
        },
        "outputId": "41e3bea1-55e9-4320-ad0c-e899d55b6089"
      },
      "execution_count": 84,
      "outputs": [
        {
          "output_type": "stream",
          "name": "stdout",
          "text": [
            "Model successfully loaded.\n"
          ]
        }
      ]
    },
    {
      "cell_type": "code",
      "source": [
        "#Prepare the input features for testing\n",
        "X_test_nn = np.concatenate(X_test_wav2vec).reshape(-1, 768)\n",
        "\n",
        "# Replicate labels for each frame 99 times\n",
        "y_test_replicated = np.repeat(y_test_wav2vec, 99)\n",
        "\n",
        "# Initialize a label encoder to convert labels to numerical values\n",
        "label_encoder = LabelEncoder()\n",
        "\n",
        "# Encode the replicated labels into numerical values\n",
        "y_test_numerical = np.array(label_encoder.fit_transform(y_test_replicated))\n",
        "\n",
        "# Convert the numerical labels to one-hot encoding\n",
        "label_binarizer = LabelBinarizer()\n",
        "y_test_one_hot_nn = label_binarizer.fit_transform(y_test_numerical)"
      ],
      "metadata": {
        "colab": {
          "base_uri": "https://localhost:8080/",
          "height": 246
        },
        "id": "G77M13qSImAi",
        "outputId": "14d2115c-1f7a-40ee-91fa-fa7515cffe4a"
      },
      "execution_count": 9,
      "outputs": [
        {
          "output_type": "error",
          "ename": "NameError",
          "evalue": "ignored",
          "traceback": [
            "\u001b[0;31m---------------------------------------------------------------------------\u001b[0m",
            "\u001b[0;31mNameError\u001b[0m                                 Traceback (most recent call last)",
            "\u001b[0;32m<ipython-input-9-89c544a2b61d>\u001b[0m in \u001b[0;36m<cell line: 8>\u001b[0;34m()\u001b[0m\n\u001b[1;32m      6\u001b[0m \u001b[0;34m\u001b[0m\u001b[0m\n\u001b[1;32m      7\u001b[0m \u001b[0;31m# Initialize a label encoder to convert labels to numerical values\u001b[0m\u001b[0;34m\u001b[0m\u001b[0;34m\u001b[0m\u001b[0m\n\u001b[0;32m----> 8\u001b[0;31m \u001b[0mlabel_encoder\u001b[0m \u001b[0;34m=\u001b[0m \u001b[0mLabelEncoder\u001b[0m\u001b[0;34m(\u001b[0m\u001b[0;34m)\u001b[0m\u001b[0;34m\u001b[0m\u001b[0;34m\u001b[0m\u001b[0m\n\u001b[0m\u001b[1;32m      9\u001b[0m \u001b[0;34m\u001b[0m\u001b[0m\n\u001b[1;32m     10\u001b[0m \u001b[0;31m# Encode the replicated labels into numerical values\u001b[0m\u001b[0;34m\u001b[0m\u001b[0;34m\u001b[0m\u001b[0m\n",
            "\u001b[0;31mNameError\u001b[0m: name 'LabelEncoder' is not defined"
          ]
        }
      ]
    },
    {
      "cell_type": "code",
      "source": [
        "loss, accuracy = nn_wav2vec.evaluate(X_test_nn, y_test_one_hot_nn, verbose=0)\n",
        "print('Accuracy of Test data that the model has not seen before:', accuracy)"
      ],
      "metadata": {
        "colab": {
          "base_uri": "https://localhost:8080/"
        },
        "id": "-3gMTzVfI3Xu",
        "outputId": "8a9985de-691f-433d-f9b0-a741c6428ea7"
      },
      "execution_count": 86,
      "outputs": [
        {
          "output_type": "stream",
          "name": "stdout",
          "text": [
            "Accuracy of Test data that the model has not seen before: 0.747151792049408\n"
          ]
        }
      ]
    },
    {
      "cell_type": "markdown",
      "source": [
        "**Comments on the results obtained in the prediction task**\n",
        "\n",
        "\n",
        "\n",
        "*   GMM model\n",
        "\n",
        "The gaussian mixture models are commonly used in the task of speaker classification. In this case this implementation utilizes GMM, a probabilistic model, for speaker identification, where for each speaker in the dataset a  GMM is trained, modeling their speech features. Each GMM is initialized with 16 components and a diagonal covariance matrix for each component. This resulted in a accuracy of 0.803,suggesting that the GMM approach is promising for speaker identification. Fine-tuning the GMM parameters, such as the number of components or the covariance type, may lead to potential improvements in accuracy.\n",
        "\n",
        "\n",
        "\n",
        "*   Neural Network\n",
        "\n",
        "In the second model, we initiated from a neural network architecture obtained from GitHub and extended it by adding an additional hidden layer, incorporating batch normalization, and training with a batch size of 32. Surprisingly, this augmented model achieved an accuracy of 0.747, which is actually lower than the accuracy attained by the GMM approach. One would anticipate that a more complex model would yield better accuracy, but it's highly probable that the chosen parameters were not the most suitable for the given task. In this case, the GMM, being simpler in design, performed better due to its appropriateness for the task.\n",
        "\n",
        "For this case further exploration of diverse architectures for this task is essential. Additionally, employing a pre-trained ResNet model, fine-tuned to the dataset with mel-spectrogram features, could potentially yield improved performance. Research suggests that such an approach has exhibited notable success in various audio classification tasks.\n",
        "\n"
      ],
      "metadata": {
        "id": "k082qd3Uxxrd"
      }
    },
    {
      "cell_type": "markdown",
      "source": [
        "\n",
        "\n",
        "\n",
        "**Qualitative analysis**"
      ],
      "metadata": {
        "id": "tM4XO8kOPIud"
      }
    },
    {
      "cell_type": "markdown",
      "source": [
        "\n",
        "**PCA**\n"
      ],
      "metadata": {
        "id": "i7s4VpqNx_m7"
      }
    },
    {
      "cell_type": "code",
      "source": [
        "from sklearn.decomposition import PCA\n",
        "from sklearn.preprocessing import StandardScaler\n",
        "\n",
        "def pca_for_audio_features(X_wav2vec):\n",
        "    \"\"\"\n",
        "    Perform PCA for each audio file in X_wav2vec and reduce the dimensionality\n",
        "    to capture 85% variance.\n",
        "\n",
        "    Parameters:\n",
        "    X_wav2vec (list): List of feature vectors for each audio file, where each\n",
        "                      vector has shape (num_frames, num_features).\n",
        "\n",
        "    Returns:\n",
        "    transformed_features_list (list): List of transformed features for each audio\n",
        "                                      file with reduced dimensionality.\n",
        "    num_comp (list): List of the number of components needed to capture 85%\n",
        "                     variance for each audio file.\n",
        "    \"\"\"\n",
        "\n",
        "    # Initialize a list to store transformed features for each audio file\n",
        "    transformed_features_list = []\n",
        "    num_comp = []\n",
        "\n",
        "    for features_audio_file in X_wav2vec:\n",
        "        # Step 1: Standardize the features for the current audio file\n",
        "        scaler = StandardScaler()\n",
        "        features_standardized = scaler.fit_transform(features_audio_file)\n",
        "\n",
        "        # Step 2-4: Perform PCA for the current audio file\n",
        "        pca = PCA()\n",
        "        features_pca = pca.fit_transform(features_standardized)\n",
        "\n",
        "        # Calculate explained variance ratio for the current audio file\n",
        "        explained_variance_ratio = pca.explained_variance_ratio_\n",
        "        cumulative_variance_ratio = np.cumsum(explained_variance_ratio)\n",
        "\n",
        "        # Find the number of components needed for 85% variance\n",
        "        num_components_85_variance = np.argmax(cumulative_variance_ratio >= 0.85) + 1\n",
        "        num_comp.append(num_components_85_variance)\n",
        "\n",
        "        # Step 5: Select desired number of components for the current audio file\n",
        "        k_components = num_components_85_variance\n",
        "        features_pca_selected = features_pca[:, :num_components_85_variance]\n",
        "\n",
        "        # Append the transformed features for the current audio file to the list\n",
        "        transformed_features_list.append(features_pca_selected)\n",
        "\n",
        "    return transformed_features_list, num_comp\n"
      ],
      "metadata": {
        "id": "nMscYAmNPIJT"
      },
      "execution_count": 10,
      "outputs": []
    },
    {
      "cell_type": "code",
      "source": [
        "transformed_features_list, num_comp = pca_for_audio_features(X_wav2vec)\n"
      ],
      "metadata": {
        "id": "AWEAxit7P8HI"
      },
      "execution_count": 89,
      "outputs": []
    },
    {
      "cell_type": "code",
      "source": [
        "import statistics\n",
        "\n",
        "statistics.mean(num_comp)\n",
        "\n",
        "# Plot a histogram\n",
        "plt.hist(num_comp, bins=20, color='blue', alpha=0.7)\n",
        "\n",
        "# Add labels and title\n",
        "plt.xlabel('Number of Components')\n",
        "plt.ylabel('Frequency')\n",
        "plt.title('Histogram of the Number of Components')\n",
        "\n",
        "# Display the histogram\n",
        "plt.show()\n",
        "print('This is the maximum number of components', max(num_comp))\n",
        "print('This is the minimum number of components', min(num_comp))"
      ],
      "metadata": {
        "colab": {
          "base_uri": "https://localhost:8080/",
          "height": 507
        },
        "id": "vbWpry46R8_v",
        "outputId": "94ba1005-eeb9-4b29-e524-38babeb69652"
      },
      "execution_count": 97,
      "outputs": [
        {
          "output_type": "display_data",
          "data": {
            "text/plain": [
              "<Figure size 640x480 with 1 Axes>"
            ],
            "image/png": "[encoded data removed]"
          },
          "metadata": {}
        },
        {
          "output_type": "stream",
          "name": "stdout",
          "text": [
            "This is the maximum number of components 55\n",
            "This is the minimum number of components 16\n"
          ]
        }
      ]
    },
    {
      "cell_type": "markdown",
      "source": [
        "Due to the substantial volume of data, Principal Component Analysis (PCA) was performed on each audio file to determine the number of components necessary to account for 85% of the variance in the data.\n",
        "\n",
        "The resulting values were aggregated and averaged, revealing that approximately 47 components are required to explain the variance in the dataset. Moreover, a graphical representation of these components for each audio clip demonstrated that the majority of audio clips necessitate between 40 and 55 components. This highlights the diverse characteristics and complexities associated with each speaker, reinforcing the challenge of speaker classification.\n",
        "\n",
        "Interestingly, a subset of audio clips required only around 20 components. This suggests that these particular clips may represent unique vocal patterns, distinct accents, or specific speech characteristics associated with particular speakers.\n",
        "\n",
        "Overall, the finding that approximately 47 components are sufficient to explain 85% of the variance in the data is a noteworthy advancement in computational efficiency compared to the initial 768 features extracted using the wav2vec encoder."
      ],
      "metadata": {
        "id": "FK3pmHTsro9B"
      }
    },
    {
      "cell_type": "markdown",
      "source": [
        "**Clustering**"
      ],
      "metadata": {
        "id": "8_WOq7eyvKoJ"
      }
    },
    {
      "cell_type": "code",
      "source": [
        "from sklearn.cluster import KMeans\n",
        "from sklearn.preprocessing import StandardScaler\n",
        "from sklearn.decomposition import PCA\n",
        "\n",
        "\n",
        "# Step 1: Prepare the data\n",
        "# Assume features_wav2vec is your Wav2Vec features, shape: (num_samples, num_features)\n",
        "# Assuming x_scale is your feature data\n",
        "# Reduce dimensionality using PCA\n",
        "pca = PCA(n_components=47)  # Adjust the number of components as needed\n",
        "xpca_path='/content/drive/MyDrive/x_pca.pickle'\n",
        "num_clusters = 40  # Choose the number of clusters\n",
        "kmeans = KMeans(n_clusters=num_clusters, random_state=42)\n",
        "\n",
        "if os.path.exists(xpca_path):\n",
        "  with open(xpca_path, 'rb') as f:\n",
        "    x_pca = pickle.load(f)\n",
        "else:\n",
        "  X=np.concatenate(X_wav2vec).reshape(-1, 768)\n",
        "  x_scale = StandardScaler().fit_transform(X)\n",
        "  x_pca = pca.fit_transform(x_scale)\n",
        "\n"
      ],
      "metadata": {
        "id": "zXTLNOgFyUKU"
      },
      "execution_count": 7,
      "outputs": []
    },
    {
      "cell_type": "code",
      "source": [
        "# Step 3: Apply K-means clustering\n",
        "\n",
        "num_clusters = 40  # Choose the number of clusters\n",
        "kmeans = KMeans(n_clusters=num_clusters, random_state=42)\n",
        "clusters = kmeans.fit_predict(x_pca)"
      ],
      "metadata": {
        "colab": {
          "base_uri": "https://localhost:8080/"
        },
        "id": "CPeEtHH1cjw6",
        "outputId": "d09e5477-3564-434a-c342-01283aaf656c"
      },
      "execution_count": 13,
      "outputs": [
        {
          "output_type": "stream",
          "name": "stderr",
          "text": [
            "/usr/local/lib/python3.10/dist-packages/sklearn/cluster/_kmeans.py:870: FutureWarning: The default value of `n_init` will change from 10 to 'auto' in 1.4. Set the value of `n_init` explicitly to suppress the warning\n",
            "  warnings.warn(\n"
          ]
        }
      ]
    },
    {
      "cell_type": "code",
      "source": [
        "# Optional: Visualize the clusters\n",
        "\n",
        "plt.scatter(x_pca[:, 0], x_pca[:, 1], c=clusters, cmap='viridis')\n",
        "plt.scatter(kmeans.cluster_centers_[:, 0], kmeans.cluster_centers_[:, 1], s=300, c='red')\n",
        "plt.xlabel('Feature 1')\n",
        "plt.ylabel('Feature 2')\n",
        "plt.title('K-means Clustering')\n",
        "plt.show()"
      ],
      "metadata": {
        "colab": {
          "base_uri": "https://localhost:8080/",
          "height": 472
        },
        "id": "hkdTXabuW-eh",
        "outputId": "3f68615b-fe9e-4f4e-8b6c-24d9e9ee893e"
      },
      "execution_count": 12,
      "outputs": [
        {
          "output_type": "display_data",
          "data": {
            "text/plain": [
              "<Figure size 640x480 with 1 Axes>"
            ],
            "image/png": "[encoded data removed]"
          },
          "metadata": {}
        }
      ]
    },
    {
      "cell_type": "markdown",
      "source": [
        "In this scenario, we utilized the 47 PCA components to reduce the dimensionality of the features, thus making the computational demands more manageable. Subsequently, I employed 40 clusters, each corresponding to a specific speaker, and applied the k-means algorithm to visualize these clusters based on the first two PCA features.\n",
        "\n",
        "From the visual representation shown in the image above, it becomes evident that relying solely on these two features is insufficient to accurately identify the speaker. However, some clusters appear distinguishable, suggesting that there are speakers with distinct voices for which two features might suffice. This further aligns with our findings from the PCA analysis, which indicated the need for a minimum of 47 features to accurately represent the data.\n",
        "\n",
        "Regrettably, visualizing the clusters in all 47 dimensions is impractical. Nevertheless, our plot provides a valuable visualization, offering insights into the nature of the data under analysis."
      ],
      "metadata": {
        "id": "ouLQD-Dze1bD"
      }
    }
  ]
}